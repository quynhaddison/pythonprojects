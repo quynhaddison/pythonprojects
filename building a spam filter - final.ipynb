{
 "cells": [
  {
   "cell_type": "markdown",
   "id": "aab028c0",
   "metadata": {},
   "source": [
    "# Building a Spam Filter with Naive Bayes\n",
    "\n",
    "Addison 2022-09-12\n",
    "\n",
    "## Introduction\n",
    "\n",
    "This project aims to employ the multinomial Naive Bayes algorithm to build a spam filter for identifying whether an SMS message is a spam message or not based on a dataset that contains 5,572 SMS messages already classified by humans.\n",
    "\n",
    "The dataset could be obtained through this link: https://drive.google.com/file/d/1tzm6SQ519P1rCHJPPwYvqvMM2q3lLkoy/view?usp=sharing.\n",
    "\n",
    "\n",
    "The dataset only has two columns. Since it does not have a header row yet, we will name the columns **Label** and **SMS**:\n",
    "\n",
    "- **Label:** SMS message category: ham (non-spam) or spam\n",
    "\n",
    "- **SMS:** the content of the SMS message"
   ]
  },
  {
   "cell_type": "code",
   "execution_count": 1,
   "id": "3811de48",
   "metadata": {},
   "outputs": [],
   "source": [
    "import pandas as pd\n",
    "import numpy as np\n",
    "import operator\n",
    "\n",
    "\n",
    "spam = pd.read_csv(\"/Users/apple/Downloads/python_dataquest/SMSSpamCollection\",\n",
    "                  sep='\\t', header = None, names=['Label', 'SMS'])"
   ]
  },
  {
   "cell_type": "markdown",
   "id": "9b55f9e6",
   "metadata": {},
   "source": [
    "To start with, let's have a quick look at the first and essential information of the data to imagine what the data looks like as well as get to know the data types of columns and the number of non-null values."
   ]
  },
  {
   "cell_type": "code",
   "execution_count": 2,
   "id": "0b0dee44",
   "metadata": {
    "scrolled": false
   },
   "outputs": [
    {
     "data": {
      "text/html": [
       "<div>\n",
       "<style scoped>\n",
       "    .dataframe tbody tr th:only-of-type {\n",
       "        vertical-align: middle;\n",
       "    }\n",
       "\n",
       "    .dataframe tbody tr th {\n",
       "        vertical-align: top;\n",
       "    }\n",
       "\n",
       "    .dataframe thead th {\n",
       "        text-align: right;\n",
       "    }\n",
       "</style>\n",
       "<table border=\"1\" class=\"dataframe\">\n",
       "  <thead>\n",
       "    <tr style=\"text-align: right;\">\n",
       "      <th></th>\n",
       "      <th>Label</th>\n",
       "      <th>SMS</th>\n",
       "    </tr>\n",
       "  </thead>\n",
       "  <tbody>\n",
       "    <tr>\n",
       "      <th>0</th>\n",
       "      <td>ham</td>\n",
       "      <td>Go until jurong point, crazy.. Available only ...</td>\n",
       "    </tr>\n",
       "    <tr>\n",
       "      <th>1</th>\n",
       "      <td>ham</td>\n",
       "      <td>Ok lar... Joking wif u oni...</td>\n",
       "    </tr>\n",
       "    <tr>\n",
       "      <th>2</th>\n",
       "      <td>spam</td>\n",
       "      <td>Free entry in 2 a wkly comp to win FA Cup fina...</td>\n",
       "    </tr>\n",
       "    <tr>\n",
       "      <th>3</th>\n",
       "      <td>ham</td>\n",
       "      <td>U dun say so early hor... U c already then say...</td>\n",
       "    </tr>\n",
       "    <tr>\n",
       "      <th>4</th>\n",
       "      <td>ham</td>\n",
       "      <td>Nah I don't think he goes to usf, he lives aro...</td>\n",
       "    </tr>\n",
       "    <tr>\n",
       "      <th>5</th>\n",
       "      <td>spam</td>\n",
       "      <td>FreeMsg Hey there darling it's been 3 week's n...</td>\n",
       "    </tr>\n",
       "    <tr>\n",
       "      <th>6</th>\n",
       "      <td>ham</td>\n",
       "      <td>Even my brother is not like to speak with me. ...</td>\n",
       "    </tr>\n",
       "    <tr>\n",
       "      <th>7</th>\n",
       "      <td>ham</td>\n",
       "      <td>As per your request 'Melle Melle (Oru Minnamin...</td>\n",
       "    </tr>\n",
       "    <tr>\n",
       "      <th>8</th>\n",
       "      <td>spam</td>\n",
       "      <td>WINNER!! As a valued network customer you have...</td>\n",
       "    </tr>\n",
       "    <tr>\n",
       "      <th>9</th>\n",
       "      <td>spam</td>\n",
       "      <td>Had your mobile 11 months or more? U R entitle...</td>\n",
       "    </tr>\n",
       "  </tbody>\n",
       "</table>\n",
       "</div>"
      ],
      "text/plain": [
       "  Label                                                SMS\n",
       "0   ham  Go until jurong point, crazy.. Available only ...\n",
       "1   ham                      Ok lar... Joking wif u oni...\n",
       "2  spam  Free entry in 2 a wkly comp to win FA Cup fina...\n",
       "3   ham  U dun say so early hor... U c already then say...\n",
       "4   ham  Nah I don't think he goes to usf, he lives aro...\n",
       "5  spam  FreeMsg Hey there darling it's been 3 week's n...\n",
       "6   ham  Even my brother is not like to speak with me. ...\n",
       "7   ham  As per your request 'Melle Melle (Oru Minnamin...\n",
       "8  spam  WINNER!! As a valued network customer you have...\n",
       "9  spam  Had your mobile 11 months or more? U R entitle..."
      ]
     },
     "execution_count": 2,
     "metadata": {},
     "output_type": "execute_result"
    }
   ],
   "source": [
    "spam.head(10)"
   ]
  },
  {
   "cell_type": "code",
   "execution_count": 3,
   "id": "01ba9739",
   "metadata": {},
   "outputs": [
    {
     "name": "stdout",
     "output_type": "stream",
     "text": [
      "<class 'pandas.core.frame.DataFrame'>\n",
      "RangeIndex: 5572 entries, 0 to 5571\n",
      "Data columns (total 2 columns):\n",
      " #   Column  Non-Null Count  Dtype \n",
      "---  ------  --------------  ----- \n",
      " 0   Label   5572 non-null   object\n",
      " 1   SMS     5572 non-null   object\n",
      "dtypes: object(2)\n",
      "memory usage: 87.2+ KB\n"
     ]
    }
   ],
   "source": [
    "spam.info()"
   ]
  },
  {
   "cell_type": "markdown",
   "id": "619f52d7",
   "metadata": {},
   "source": [
    "From the data above, it is evident that the dataset has no missing values and all the data types are object.\n",
    "Now, we are going to explore the proportion of ham and spam messages in the dataset."
   ]
  },
  {
   "cell_type": "code",
   "execution_count": 4,
   "id": "70b45d7a",
   "metadata": {
    "scrolled": false
   },
   "outputs": [
    {
     "data": {
      "text/plain": [
       "ham     86.593683\n",
       "spam    13.406317\n",
       "Name: Label, dtype: float64"
      ]
     },
     "execution_count": 4,
     "metadata": {},
     "output_type": "execute_result"
    }
   ],
   "source": [
    "label_percentage = spam[\"Label\"].value_counts(normalize = True)*100\n",
    "label_percentage"
   ]
  },
  {
   "cell_type": "markdown",
   "id": "a83f421a",
   "metadata": {},
   "source": [
    "## Setting up training and testing sets\n",
    "\n",
    "Next, we will randomize the whole dataset and split it into training and testing sets. We will also reset the index labels for the two new sets since the index labels become unordered after randomization.\n",
    "\n",
    "The training set named **training_data** will contain 80% of the rows in the data.\n",
    "\n",
    "The remaining number of rows in the data will belong to the testing test named **testing_data**."
   ]
  },
  {
   "cell_type": "code",
   "execution_count": 5,
   "id": "388bc724",
   "metadata": {
    "scrolled": true
   },
   "outputs": [],
   "source": [
    "training_data = spam.sample(frac = 0.8).reset_index(drop = True)\n",
    "testing_data = spam[~spam.index.isin(training_data.index)].reset_index(drop = True)"
   ]
  },
  {
   "cell_type": "markdown",
   "id": "07b868b8",
   "metadata": {},
   "source": [
    "## Data cleaning\n",
    "\n",
    "In this project, we will not take punctuation and capitalization into account and rather focus on pure word and number expression instead.\n",
    "Thus, we are about to remove all the punctuation from the SMS column. In other words, we will only retain words and numbers in the SMS column. Then, we will transform all the messages into lower case.\n"
   ]
  },
  {
   "cell_type": "code",
   "execution_count": 6,
   "id": "cae0d1c2",
   "metadata": {
    "scrolled": false
   },
   "outputs": [
    {
     "data": {
      "text/plain": [
       "0                          i m fine  hope you are also\n",
       "1                      cool  text me when you re ready\n",
       "2    for ur chance to win  250 cash every wk txt  p...\n",
       "3    oh  i will get paid  the most outstanding one ...\n",
       "4    its ok chikku  and its my 1 of favourite song ...\n",
       "Name: SMS, dtype: object"
      ]
     },
     "execution_count": 6,
     "metadata": {},
     "output_type": "execute_result"
    }
   ],
   "source": [
    "training_data[\"SMS\"] = training_data[\"SMS\"].str.replace(\"\\W\", \" \", regex=True)\n",
    "training_data[\"SMS\"] = training_data[\"SMS\"].str.lower() \n",
    "training_data[\"SMS\"].head()"
   ]
  },
  {
   "cell_type": "markdown",
   "id": "35794e4a",
   "metadata": {},
   "source": [
    "## Building a vocabulary list\n",
    "\n",
    "Next, we will start creating a list named **vocabulary** containing unique characters from the SMS column by transforming each message in the SMS column into a list by splitting the string at the space character."
   ]
  },
  {
   "cell_type": "code",
   "execution_count": 7,
   "id": "5342dd3c",
   "metadata": {
    "scrolled": true
   },
   "outputs": [
    {
     "data": {
      "text/plain": [
       "0                   [i, m, fine, hope, you, are, also]\n",
       "1               [cool, text, me, when, you, re, ready]\n",
       "2    [for, ur, chance, to, win, 250, cash, every, w...\n",
       "3    [oh, i, will, get, paid, the, most, outstandin...\n",
       "4    [its, ok, chikku, and, its, my, 1, of, favouri...\n",
       "Name: SMS, dtype: object"
      ]
     },
     "execution_count": 7,
     "metadata": {},
     "output_type": "execute_result"
    }
   ],
   "source": [
    "training_data[\"SMS\"] = training_data[\"SMS\"].str.split()\n",
    "training_data[\"SMS\"].head()"
   ]
  },
  {
   "cell_type": "markdown",
   "id": "4e48cb5c",
   "metadata": {},
   "source": [
    "To build the **vocabulary** list, we will add all the characters from the lists, which have been just created above, to the contemporarily empty list \"vocabulary\". Then, we will transform the vocabulary list into a set to remove the duplicates from the vocabulary list and transform the vocabulary set back into a list."
   ]
  },
  {
   "cell_type": "code",
   "execution_count": 8,
   "id": "33ed2d0e",
   "metadata": {
    "scrolled": false
   },
   "outputs": [
    {
     "data": {
      "text/plain": [
       "['even',\n",
       " 'blood',\n",
       " 'ke',\n",
       " 'club4mobiles',\n",
       " 'sleepwell',\n",
       " 'aunty',\n",
       " 'lingerie',\n",
       " 'opposed',\n",
       " '6days',\n",
       " 'sindu']"
      ]
     },
     "execution_count": 8,
     "metadata": {},
     "output_type": "execute_result"
    }
   ],
   "source": [
    "vocabulary = []\n",
    "for sms_list in training_data[\"SMS\"]:\n",
    "    for word in sms_list:\n",
    "        vocabulary.append(word)\n",
    "        \n",
    "vocabulary = list(set(vocabulary))\n",
    "vocabulary[0:10]"
   ]
  },
  {
   "cell_type": "markdown",
   "id": "d849b849",
   "metadata": {},
   "source": [
    "## Data transformation\n",
    "\n",
    "Next, we are going to create a new data frame called **num_word_per_sms_df** whose column names are unique values in the vocabulary list. Each row of the new data frame represents each message in the training set. For each row, each column will contain the number of occurrences of the column name in the corresponding SMS."
   ]
  },
  {
   "cell_type": "code",
   "execution_count": 9,
   "id": "cf588273",
   "metadata": {
    "scrolled": true
   },
   "outputs": [
    {
     "data": {
      "text/html": [
       "<div>\n",
       "<style scoped>\n",
       "    .dataframe tbody tr th:only-of-type {\n",
       "        vertical-align: middle;\n",
       "    }\n",
       "\n",
       "    .dataframe tbody tr th {\n",
       "        vertical-align: top;\n",
       "    }\n",
       "\n",
       "    .dataframe thead th {\n",
       "        text-align: right;\n",
       "    }\n",
       "</style>\n",
       "<table border=\"1\" class=\"dataframe\">\n",
       "  <thead>\n",
       "    <tr style=\"text-align: right;\">\n",
       "      <th></th>\n",
       "      <th>even</th>\n",
       "      <th>blood</th>\n",
       "      <th>ke</th>\n",
       "      <th>club4mobiles</th>\n",
       "      <th>sleepwell</th>\n",
       "      <th>aunty</th>\n",
       "      <th>lingerie</th>\n",
       "      <th>opposed</th>\n",
       "      <th>6days</th>\n",
       "      <th>sindu</th>\n",
       "      <th>...</th>\n",
       "      <th>dieting</th>\n",
       "      <th>make</th>\n",
       "      <th>constant</th>\n",
       "      <th>prakesh</th>\n",
       "      <th>leaving</th>\n",
       "      <th>performance</th>\n",
       "      <th>entitled</th>\n",
       "      <th>speak</th>\n",
       "      <th>craigslist</th>\n",
       "      <th>standing</th>\n",
       "    </tr>\n",
       "  </thead>\n",
       "  <tbody>\n",
       "    <tr>\n",
       "      <th>0</th>\n",
       "      <td>0</td>\n",
       "      <td>0</td>\n",
       "      <td>0</td>\n",
       "      <td>0</td>\n",
       "      <td>0</td>\n",
       "      <td>0</td>\n",
       "      <td>0</td>\n",
       "      <td>0</td>\n",
       "      <td>0</td>\n",
       "      <td>0</td>\n",
       "      <td>...</td>\n",
       "      <td>0</td>\n",
       "      <td>0</td>\n",
       "      <td>0</td>\n",
       "      <td>0</td>\n",
       "      <td>0</td>\n",
       "      <td>0</td>\n",
       "      <td>0</td>\n",
       "      <td>0</td>\n",
       "      <td>0</td>\n",
       "      <td>0</td>\n",
       "    </tr>\n",
       "    <tr>\n",
       "      <th>1</th>\n",
       "      <td>0</td>\n",
       "      <td>0</td>\n",
       "      <td>0</td>\n",
       "      <td>0</td>\n",
       "      <td>0</td>\n",
       "      <td>0</td>\n",
       "      <td>0</td>\n",
       "      <td>0</td>\n",
       "      <td>0</td>\n",
       "      <td>0</td>\n",
       "      <td>...</td>\n",
       "      <td>0</td>\n",
       "      <td>0</td>\n",
       "      <td>0</td>\n",
       "      <td>0</td>\n",
       "      <td>0</td>\n",
       "      <td>0</td>\n",
       "      <td>0</td>\n",
       "      <td>0</td>\n",
       "      <td>0</td>\n",
       "      <td>0</td>\n",
       "    </tr>\n",
       "    <tr>\n",
       "      <th>2</th>\n",
       "      <td>0</td>\n",
       "      <td>0</td>\n",
       "      <td>0</td>\n",
       "      <td>0</td>\n",
       "      <td>0</td>\n",
       "      <td>0</td>\n",
       "      <td>0</td>\n",
       "      <td>0</td>\n",
       "      <td>0</td>\n",
       "      <td>0</td>\n",
       "      <td>...</td>\n",
       "      <td>0</td>\n",
       "      <td>0</td>\n",
       "      <td>0</td>\n",
       "      <td>0</td>\n",
       "      <td>0</td>\n",
       "      <td>0</td>\n",
       "      <td>0</td>\n",
       "      <td>0</td>\n",
       "      <td>0</td>\n",
       "      <td>0</td>\n",
       "    </tr>\n",
       "    <tr>\n",
       "      <th>3</th>\n",
       "      <td>0</td>\n",
       "      <td>0</td>\n",
       "      <td>0</td>\n",
       "      <td>0</td>\n",
       "      <td>0</td>\n",
       "      <td>0</td>\n",
       "      <td>0</td>\n",
       "      <td>0</td>\n",
       "      <td>0</td>\n",
       "      <td>0</td>\n",
       "      <td>...</td>\n",
       "      <td>0</td>\n",
       "      <td>0</td>\n",
       "      <td>0</td>\n",
       "      <td>0</td>\n",
       "      <td>0</td>\n",
       "      <td>0</td>\n",
       "      <td>0</td>\n",
       "      <td>0</td>\n",
       "      <td>0</td>\n",
       "      <td>0</td>\n",
       "    </tr>\n",
       "    <tr>\n",
       "      <th>4</th>\n",
       "      <td>0</td>\n",
       "      <td>0</td>\n",
       "      <td>0</td>\n",
       "      <td>0</td>\n",
       "      <td>0</td>\n",
       "      <td>0</td>\n",
       "      <td>0</td>\n",
       "      <td>0</td>\n",
       "      <td>0</td>\n",
       "      <td>0</td>\n",
       "      <td>...</td>\n",
       "      <td>0</td>\n",
       "      <td>0</td>\n",
       "      <td>0</td>\n",
       "      <td>0</td>\n",
       "      <td>0</td>\n",
       "      <td>0</td>\n",
       "      <td>0</td>\n",
       "      <td>0</td>\n",
       "      <td>0</td>\n",
       "      <td>0</td>\n",
       "    </tr>\n",
       "  </tbody>\n",
       "</table>\n",
       "<p>5 rows × 7783 columns</p>\n",
       "</div>"
      ],
      "text/plain": [
       "   even  blood  ke  club4mobiles  sleepwell  aunty  lingerie  opposed  6days  \\\n",
       "0     0      0   0             0          0      0         0        0      0   \n",
       "1     0      0   0             0          0      0         0        0      0   \n",
       "2     0      0   0             0          0      0         0        0      0   \n",
       "3     0      0   0             0          0      0         0        0      0   \n",
       "4     0      0   0             0          0      0         0        0      0   \n",
       "\n",
       "   sindu  ...  dieting  make  constant  prakesh  leaving  performance  \\\n",
       "0      0  ...        0     0         0        0        0            0   \n",
       "1      0  ...        0     0         0        0        0            0   \n",
       "2      0  ...        0     0         0        0        0            0   \n",
       "3      0  ...        0     0         0        0        0            0   \n",
       "4      0  ...        0     0         0        0        0            0   \n",
       "\n",
       "   entitled  speak  craigslist  standing  \n",
       "0         0      0           0         0  \n",
       "1         0      0           0         0  \n",
       "2         0      0           0         0  \n",
       "3         0      0           0         0  \n",
       "4         0      0           0         0  \n",
       "\n",
       "[5 rows x 7783 columns]"
      ]
     },
     "execution_count": 9,
     "metadata": {},
     "output_type": "execute_result"
    }
   ],
   "source": [
    "num_word_per_sms = {value: [0]*len(training_data[\"SMS\"]) for value in vocabulary}\n",
    "\n",
    "for index, sms in enumerate(training_data[\"SMS\"]):\n",
    "    for word in sms:\n",
    "        num_word_per_sms[word][index] +=1\n",
    "        \n",
    "num_word_per_sms_df = pd.DataFrame(num_word_per_sms)\n",
    "num_word_per_sms_df.head()\n"
   ]
  },
  {
   "cell_type": "markdown",
   "id": "1468bf58",
   "metadata": {},
   "source": [
    "Now, we are about to merge the data frame above with the training set to obtain a complete training dataset called **cleaned_training_data**, which is ready for further analysis."
   ]
  },
  {
   "cell_type": "code",
   "execution_count": 10,
   "id": "746b75b7",
   "metadata": {
    "scrolled": true
   },
   "outputs": [
    {
     "data": {
      "text/html": [
       "<div>\n",
       "<style scoped>\n",
       "    .dataframe tbody tr th:only-of-type {\n",
       "        vertical-align: middle;\n",
       "    }\n",
       "\n",
       "    .dataframe tbody tr th {\n",
       "        vertical-align: top;\n",
       "    }\n",
       "\n",
       "    .dataframe thead th {\n",
       "        text-align: right;\n",
       "    }\n",
       "</style>\n",
       "<table border=\"1\" class=\"dataframe\">\n",
       "  <thead>\n",
       "    <tr style=\"text-align: right;\">\n",
       "      <th></th>\n",
       "      <th>Label</th>\n",
       "      <th>SMS</th>\n",
       "      <th>even</th>\n",
       "      <th>blood</th>\n",
       "      <th>ke</th>\n",
       "      <th>club4mobiles</th>\n",
       "      <th>sleepwell</th>\n",
       "      <th>aunty</th>\n",
       "      <th>lingerie</th>\n",
       "      <th>opposed</th>\n",
       "      <th>...</th>\n",
       "      <th>dieting</th>\n",
       "      <th>make</th>\n",
       "      <th>constant</th>\n",
       "      <th>prakesh</th>\n",
       "      <th>leaving</th>\n",
       "      <th>performance</th>\n",
       "      <th>entitled</th>\n",
       "      <th>speak</th>\n",
       "      <th>craigslist</th>\n",
       "      <th>standing</th>\n",
       "    </tr>\n",
       "  </thead>\n",
       "  <tbody>\n",
       "    <tr>\n",
       "      <th>0</th>\n",
       "      <td>ham</td>\n",
       "      <td>[i, m, fine, hope, you, are, also]</td>\n",
       "      <td>0</td>\n",
       "      <td>0</td>\n",
       "      <td>0</td>\n",
       "      <td>0</td>\n",
       "      <td>0</td>\n",
       "      <td>0</td>\n",
       "      <td>0</td>\n",
       "      <td>0</td>\n",
       "      <td>...</td>\n",
       "      <td>0</td>\n",
       "      <td>0</td>\n",
       "      <td>0</td>\n",
       "      <td>0</td>\n",
       "      <td>0</td>\n",
       "      <td>0</td>\n",
       "      <td>0</td>\n",
       "      <td>0</td>\n",
       "      <td>0</td>\n",
       "      <td>0</td>\n",
       "    </tr>\n",
       "    <tr>\n",
       "      <th>1</th>\n",
       "      <td>ham</td>\n",
       "      <td>[cool, text, me, when, you, re, ready]</td>\n",
       "      <td>0</td>\n",
       "      <td>0</td>\n",
       "      <td>0</td>\n",
       "      <td>0</td>\n",
       "      <td>0</td>\n",
       "      <td>0</td>\n",
       "      <td>0</td>\n",
       "      <td>0</td>\n",
       "      <td>...</td>\n",
       "      <td>0</td>\n",
       "      <td>0</td>\n",
       "      <td>0</td>\n",
       "      <td>0</td>\n",
       "      <td>0</td>\n",
       "      <td>0</td>\n",
       "      <td>0</td>\n",
       "      <td>0</td>\n",
       "      <td>0</td>\n",
       "      <td>0</td>\n",
       "    </tr>\n",
       "    <tr>\n",
       "      <th>2</th>\n",
       "      <td>spam</td>\n",
       "      <td>[for, ur, chance, to, win, 250, cash, every, w...</td>\n",
       "      <td>0</td>\n",
       "      <td>0</td>\n",
       "      <td>0</td>\n",
       "      <td>0</td>\n",
       "      <td>0</td>\n",
       "      <td>0</td>\n",
       "      <td>0</td>\n",
       "      <td>0</td>\n",
       "      <td>...</td>\n",
       "      <td>0</td>\n",
       "      <td>0</td>\n",
       "      <td>0</td>\n",
       "      <td>0</td>\n",
       "      <td>0</td>\n",
       "      <td>0</td>\n",
       "      <td>0</td>\n",
       "      <td>0</td>\n",
       "      <td>0</td>\n",
       "      <td>0</td>\n",
       "    </tr>\n",
       "    <tr>\n",
       "      <th>3</th>\n",
       "      <td>ham</td>\n",
       "      <td>[oh, i, will, get, paid, the, most, outstandin...</td>\n",
       "      <td>0</td>\n",
       "      <td>0</td>\n",
       "      <td>0</td>\n",
       "      <td>0</td>\n",
       "      <td>0</td>\n",
       "      <td>0</td>\n",
       "      <td>0</td>\n",
       "      <td>0</td>\n",
       "      <td>...</td>\n",
       "      <td>0</td>\n",
       "      <td>0</td>\n",
       "      <td>0</td>\n",
       "      <td>0</td>\n",
       "      <td>0</td>\n",
       "      <td>0</td>\n",
       "      <td>0</td>\n",
       "      <td>0</td>\n",
       "      <td>0</td>\n",
       "      <td>0</td>\n",
       "    </tr>\n",
       "    <tr>\n",
       "      <th>4</th>\n",
       "      <td>ham</td>\n",
       "      <td>[its, ok, chikku, and, its, my, 1, of, favouri...</td>\n",
       "      <td>0</td>\n",
       "      <td>0</td>\n",
       "      <td>0</td>\n",
       "      <td>0</td>\n",
       "      <td>0</td>\n",
       "      <td>0</td>\n",
       "      <td>0</td>\n",
       "      <td>0</td>\n",
       "      <td>...</td>\n",
       "      <td>0</td>\n",
       "      <td>0</td>\n",
       "      <td>0</td>\n",
       "      <td>0</td>\n",
       "      <td>0</td>\n",
       "      <td>0</td>\n",
       "      <td>0</td>\n",
       "      <td>0</td>\n",
       "      <td>0</td>\n",
       "      <td>0</td>\n",
       "    </tr>\n",
       "  </tbody>\n",
       "</table>\n",
       "<p>5 rows × 7785 columns</p>\n",
       "</div>"
      ],
      "text/plain": [
       "  Label                                                SMS  even  blood  ke  \\\n",
       "0   ham                 [i, m, fine, hope, you, are, also]     0      0   0   \n",
       "1   ham             [cool, text, me, when, you, re, ready]     0      0   0   \n",
       "2  spam  [for, ur, chance, to, win, 250, cash, every, w...     0      0   0   \n",
       "3   ham  [oh, i, will, get, paid, the, most, outstandin...     0      0   0   \n",
       "4   ham  [its, ok, chikku, and, its, my, 1, of, favouri...     0      0   0   \n",
       "\n",
       "   club4mobiles  sleepwell  aunty  lingerie  opposed  ...  dieting  make  \\\n",
       "0             0          0      0         0        0  ...        0     0   \n",
       "1             0          0      0         0        0  ...        0     0   \n",
       "2             0          0      0         0        0  ...        0     0   \n",
       "3             0          0      0         0        0  ...        0     0   \n",
       "4             0          0      0         0        0  ...        0     0   \n",
       "\n",
       "   constant  prakesh  leaving  performance  entitled  speak  craigslist  \\\n",
       "0         0        0        0            0         0      0           0   \n",
       "1         0        0        0            0         0      0           0   \n",
       "2         0        0        0            0         0      0           0   \n",
       "3         0        0        0            0         0      0           0   \n",
       "4         0        0        0            0         0      0           0   \n",
       "\n",
       "   standing  \n",
       "0         0  \n",
       "1         0  \n",
       "2         0  \n",
       "3         0  \n",
       "4         0  \n",
       "\n",
       "[5 rows x 7785 columns]"
      ]
     },
     "execution_count": 10,
     "metadata": {},
     "output_type": "execute_result"
    }
   ],
   "source": [
    "cleaned_training_data = pd.concat([training_data, num_word_per_sms_df], axis =1)\n",
    "cleaned_training_data.head()"
   ]
  },
  {
   "attachments": {
    "Screen%20Shot%202022-09-15%20at%2015.01.23.png": {
     "image/png": "[encoded data removed]"
    }
   },
   "cell_type": "markdown",
   "id": "2b8a6081",
   "metadata": {},
   "source": [
    "## Computing elements of the spam filter and establishing parameters\n",
    "\n",
    "After getting a clean training set, we will start creating a spam filter based on the Naive Bayes algorithm. Specifically, we will use the logic and formulae below to build parameters for the spam filter.\n",
    "\n",
    "![Screen%20Shot%202022-09-15%20at%2015.01.23.png](attachment:Screen%20Shot%202022-09-15%20at%2015.01.23.png)"
   ]
  },
  {
   "cell_type": "markdown",
   "id": "b556a520",
   "metadata": {},
   "source": [
    "It is also worth noting that all the parameters of the spam filter will be built based on the training set. The testing set will be used later to test our filter.\n",
    "\n",
    "Firstly, we will identify **P(Spam)** and **P(Ham)**, which are the proportion of spam and ham messages in the dataset respectively.\n",
    "\n",
    "In this project, **p_spam** and **p_ham** refer to **P(Spam)** and **P(Ham)** respectively."
   ]
  },
  {
   "cell_type": "code",
   "execution_count": 11,
   "id": "9c9e493e",
   "metadata": {
    "scrolled": true
   },
   "outputs": [
    {
     "data": {
      "text/plain": [
       "ham     0.86227\n",
       "spam    0.13773\n",
       "Name: Label, dtype: float64"
      ]
     },
     "execution_count": 11,
     "metadata": {},
     "output_type": "execute_result"
    }
   ],
   "source": [
    "label_proportion = cleaned_training_data[\"Label\"].value_counts(normalize = True)\n",
    "label_proportion"
   ]
  },
  {
   "cell_type": "code",
   "execution_count": 12,
   "id": "2d06f553",
   "metadata": {},
   "outputs": [
    {
     "data": {
      "text/plain": [
       "0.8622700762673845"
      ]
     },
     "execution_count": 12,
     "metadata": {},
     "output_type": "execute_result"
    }
   ],
   "source": [
    "p_ham = label_proportion[0]\n",
    "p_ham"
   ]
  },
  {
   "cell_type": "code",
   "execution_count": 13,
   "id": "0ddb7326",
   "metadata": {},
   "outputs": [
    {
     "data": {
      "text/plain": [
       "0.13772992373261553"
      ]
     },
     "execution_count": 13,
     "metadata": {},
     "output_type": "execute_result"
    }
   ],
   "source": [
    "p_spam = label_proportion[1]\n",
    "p_spam"
   ]
  },
  {
   "cell_type": "markdown",
   "id": "3a775bd7",
   "metadata": {},
   "source": [
    "Secondly, we will compute the $N_{Spam}$ and $N_{Ham}$:\n",
    "\n",
    "- $N_{Spam}$ is the total number of words in all of the SMS messages which are labelled as \"spam\" (duplicates are counted as well)\n",
    "\n",
    "- $N_{Ham}$ is the total number of words in all of the SMS messages which are labelled as \"ham\" (duplicates are counted as well)\n",
    "\n",
    "In this project, **total_spam_word** and **total_ham_word** refer to $N_{Spam}$ and $N_{Ham}$ respectively."
   ]
  },
  {
   "cell_type": "code",
   "execution_count": 14,
   "id": "b201213d",
   "metadata": {},
   "outputs": [
    {
     "data": {
      "text/plain": [
       "15660"
      ]
     },
     "execution_count": 14,
     "metadata": {},
     "output_type": "execute_result"
    }
   ],
   "source": [
    "total_spam_word = 0\n",
    "total_ham_word = 0\n",
    "\n",
    "for index, row in cleaned_training_data.iterrows():\n",
    "    label = row[\"Label\"]\n",
    "    sms_list = row[\"SMS\"]\n",
    "    total_word = len(sms_list)\n",
    "    \n",
    "    if label == \"spam\":\n",
    "            total_spam_word += total_word\n",
    "    else:\n",
    "            total_ham_word += total_word\n",
    "            \n",
    "\n",
    "total_spam_word         "
   ]
  },
  {
   "cell_type": "code",
   "execution_count": 15,
   "id": "b9d187d6",
   "metadata": {
    "scrolled": true
   },
   "outputs": [
    {
     "data": {
      "text/plain": [
       "56942"
      ]
     },
     "execution_count": 15,
     "metadata": {},
     "output_type": "execute_result"
    }
   ],
   "source": [
    "total_ham_word "
   ]
  },
  {
   "cell_type": "markdown",
   "id": "b512bdaf",
   "metadata": {},
   "source": [
    "Next, we will split the training set into two sub-datasets **spam_data** and **ham_data** based on the label of the messages. Then, we will calculate the number of occurrences of each word in the vocabulary list in each sub-set:\n",
    "\n",
    "- $N_{w_{i}|Spam}$: the number of occurrences of a word in the vocabulary list in the spam_data sub-set\n",
    "\n",
    "- $N_{w_{i}|Ham}$: the number of occurrences of a word in the vocabulary list in the ham_data sub-set\n",
    "\n",
    "In this project, **word_count_in_spam** and **word_count_in_ham** refer to $N_{w_{i}|Spam}$ and $N_{w_{i}|Ham}$ respectively.\n",
    "\n",
    "It is also worth noting that $N_{Vocabulary}$ is the number of values in the vocabulary list. We will use the function len() to get $N_{Vocabulary}$ when computing P($w_{i}$|Spam) and P($w_{i}$|Ham).\n",
    "\n",
    "P($w_{i}$|Spam) and P($w_{i}$|Ham) are the proportion of the number of occurrences of a word in the vocabulary list in the spam_data and ham_data sub-set respectively. In this project, **percentage_word_count_in_spam** and **percentage_word_count_in_ham** refer to P($w_{i}$|Spam) and P($w_{i}$|Ham) respectively.\n",
    " \n",
    " \n",
    "In this project, each key-value pair in the two dictionaries **spam_parameter** and **ham_parameter** represents for each word in the vocabulary list as well as its P($w_{i}$|Spam) and P($w_{i}$|Ham) respectively.\n",
    "\n",
    "It is also worth mentioning that we will use **alpha = 1**, which is commonly known as Laplace smoothing, in this project. Originally, to compute the P($w_{i}$|Spam) or P($w_{i}$|Ham), we just need two elements which are $N_{w_{i}|Spam}$ or $N_{w_{i}|Ham}$ and $N_{Spam}$ or $N_{Ham}$. However, when new words **(those are not in the vocabulary list)** exist in the SMS messages used for testing later, we need to include alpha and $N_{Vocabulary}$ in our formulae to avoid getting probabilities of 0 (specifically, numerator = 0) without distorting the meaning of our results. "
   ]
  },
  {
   "cell_type": "code",
   "execution_count": 16,
   "id": "762cf65d",
   "metadata": {},
   "outputs": [],
   "source": [
    "spam_data = cleaned_training_data[cleaned_training_data[\"Label\"] == \"spam\"]\n",
    "ham_data = cleaned_training_data[cleaned_training_data[\"Label\"] == \"ham\"]\n",
    "\n",
    "alpha = 1\n",
    "\n",
    "spam_parameter = {}\n",
    "ham_parameter = {}\n",
    "\n",
    "for word in vocabulary:\n",
    "    word_count_in_spam = spam_data[word].sum()\n",
    "    word_count_in_ham = ham_data[word].sum()\n",
    "    \n",
    "    percentage_word_count_in_spam = (word_count_in_spam + alpha)/(total_spam_word + alpha*len(vocabulary))\n",
    "    percentage_word_count_in_ham = (word_count_in_ham + alpha)/(total_ham_word + alpha*len(vocabulary))\n",
    "\n",
    "    spam_parameter[word] = percentage_word_count_in_spam\n",
    "    ham_parameter[word] = percentage_word_count_in_ham"
   ]
  },
  {
   "cell_type": "markdown",
   "id": "243f70af",
   "metadata": {},
   "source": [
    "Let's have a look at the top 5 words that have the highest probability of being spam."
   ]
  },
  {
   "cell_type": "code",
   "execution_count": 17,
   "id": "f4e33a87",
   "metadata": {
    "scrolled": true
   },
   "outputs": [
    {
     "data": {
      "text/plain": [
       "{'to': 0.024740860811329608,\n",
       " 'a': 0.012839653627948642,\n",
       " 'call': 0.012285117092522288,\n",
       " 'you': 0.009768374354818069,\n",
       " 'your': 0.00934180778910549}"
      ]
     },
     "execution_count": 17,
     "metadata": {},
     "output_type": "execute_result"
    }
   ],
   "source": [
    "dict(sorted(spam_parameter.items(), key=operator.itemgetter(1),reverse=True)[:5])"
   ]
  },
  {
   "cell_type": "markdown",
   "id": "14b1512e",
   "metadata": {},
   "source": [
    "Let's have a look at the top 5 words that have the highest probability of being ham."
   ]
  },
  {
   "cell_type": "code",
   "execution_count": 18,
   "id": "69c94f7f",
   "metadata": {
    "scrolled": true
   },
   "outputs": [
    {
     "data": {
      "text/plain": [
       "{'i': 0.03643105446118192,\n",
       " 'you': 0.023746620316724604,\n",
       " 'to': 0.019389725762842796,\n",
       " 'the': 0.014152182309772113,\n",
       " 'a': 0.01347238315952105}"
      ]
     },
     "execution_count": 18,
     "metadata": {},
     "output_type": "execute_result"
    }
   ],
   "source": [
    "dict(sorted(ham_parameter.items(), key=operator.itemgetter(1),reverse=True)[:5])"
   ]
  },
  {
   "cell_type": "markdown",
   "id": "083c9321",
   "metadata": {},
   "source": [
    "Now, we are about to identify the proportion of occurrences of a word **not in** the vocabulary list in the spam_data and ham_data sub-set.\n",
    "\n",
    "Words which are **not in** the vocabulary list have $N_{w_{i}|Spam}$ = $N_{w_{i}|Ham}$ = 0\n",
    "\n",
    "In this project, **not_vocab_given_spam_parameter** and **not_vocab_given_ham_parameter** refer to the proportion of the number of occurrence of a word **not in** the vocabulary list in the spam_data and ham_data sub-set respectively."
   ]
  },
  {
   "cell_type": "code",
   "execution_count": 19,
   "id": "a3600f41",
   "metadata": {},
   "outputs": [
    {
     "data": {
      "text/plain": [
       "4.2656656571257946e-05"
      ]
     },
     "execution_count": 19,
     "metadata": {},
     "output_type": "execute_result"
    }
   ],
   "source": [
    "not_vocab_given_spam_parameter = (0 + alpha)/(total_spam_word + alpha*len(vocabulary))\n",
    "not_vocab_given_spam_parameter                                  "
   ]
  },
  {
   "cell_type": "code",
   "execution_count": 20,
   "id": "48d51222",
   "metadata": {},
   "outputs": [
    {
     "data": {
      "text/plain": [
       "1.544998068752414e-05"
      ]
     },
     "execution_count": 20,
     "metadata": {},
     "output_type": "execute_result"
    }
   ],
   "source": [
    "not_vocab_given_ham_parameter = (0 + alpha)/(total_ham_word + alpha*len(vocabulary))\n",
    "not_vocab_given_ham_parameter"
   ]
  },
  {
   "cell_type": "markdown",
   "id": "a4316870",
   "metadata": {},
   "source": [
    "## Building spam filters\n",
    "\n",
    "### The spam filter for single messages\n",
    "\n",
    "Next, we are going to build a function called **spam_detector_for_single_message**, which takes in a message (a string) and prints P(Spam|message) and P(Ham|message) of that message.\n",
    "\n",
    "- If P(Spam|message) > P(Ham|message), the function further prints \"This is a spam message\"\n",
    "\n",
    "- If P(Spam|message) < P(Ham|message), the function further prints \"This is a ham message\"\n",
    "\n",
    "- If P(Spam|message) = P(Ham|message), the function further prints \"Equal probabilities. The message needs to be classified by human!\"\n",
    "\n",
    "\n",
    "Regarding the logic of the function, it firstly removes all the punctuation from the inputted message and transforms all the characters into lower case. Then, it classifies each word in the message into two lists **word_in_vocab** and **word_not_in_vocab**.\n",
    "\n",
    "- **word_in_vocab** contains words in the message which also exist in the vocabulary list\n",
    "\n",
    "- **word_not_in_vocab** contains words in the message which do not exist in the vocabulary list\n",
    "\n",
    "\n",
    "Next, each word in the **word_in_vocab** list will take corresponding values in the **spam_parameter** and **ham_parameter** dictionaries, which will be placed in the **vocab_spam_percentage** and **vocab_ham_percentage** respectively afterwards.\n",
    "\n",
    "In the meanwhile, each word in the **word_not_in_vocab** list will take corresponding values from variables **not_vocab_given_spam_parameter** and **not_vocab_given_ham_parameter**, which will be placed in the **not_vocab_spam_percentage** and **not_vocab_ham_percentage** respectively afterwards.\n",
    "\n",
    "Next, P(Spam|message) will be computed by multiplying all the values in the **vocab_spam_percentage** and **not_vocab_spam_percentage** list as well as the **p_spam**. \n",
    "\n",
    "On the other hand, P(Ham|message) will be computed by multiplying all the values in the **vocab_ham_percentage** and **not_vocab_ham_percentage** list as well as the **p_ham**. \n",
    "\n",
    "Afterwards, the function will compare the values of P(Spam|message) and P(Ham|message) and then print corresponding outputs which are mentioned previously.\n",
    "\n",
    "\n",
    "For clarification, here are the formulae for calculating P(Spam|message) and P(Ham|message):\n",
    "\n",
    "\n",
    "- P(Spam|$w_{1}, w_{2},.., w_{n}$) = P(Spam) * P($w_{1}$|Spam) * P($w_{2}$|Spam) * ... * P($w_{n}$|Spam)\n",
    "\n",
    "- P(Ham|$w_{1}, w_{2},.., w_{n}$) = P(Ham) * P($w_{1}$|Ham) * P($w_{2}$|Ham) * ... * P($w_{n}$|Ham)\n",
    "\n",
    "\n",
    "\n"
   ]
  },
  {
   "cell_type": "code",
   "execution_count": 21,
   "id": "c7f6011e",
   "metadata": {},
   "outputs": [],
   "source": [
    "import re\n",
    "\n",
    "def spam_detector_for_single_message(message):\n",
    "    message = re.sub('\\W', ' ', message)\n",
    "    message = message.lower()\n",
    "    message = message.split()\n",
    "    \n",
    "    word_in_vocab = []\n",
    "    vocab_spam_percentage = []\n",
    "    vocab_ham_percentage = []\n",
    "    \n",
    "    word_not_in_vocab = []\n",
    "    not_vocab_spam_percentage = []\n",
    "    not_vocab_ham_percentage = []\n",
    "\n",
    "    \n",
    "    for word in message:\n",
    "        if word in vocabulary:\n",
    "            word_in_vocab.append(word)\n",
    "        else:\n",
    "            word_not_in_vocab.append(word)\n",
    "    \n",
    "    for word in word_in_vocab:\n",
    "        vocab_spam_percentage.append(spam_parameter[word])\n",
    "        vocab_ham_percentage.append(ham_parameter[word])\n",
    "    \n",
    "    for word in word_not_in_vocab:\n",
    "        not_vocab_spam_percentage.append(not_vocab_given_spam_parameter)\n",
    "        not_vocab_ham_percentage.append(not_vocab_given_ham_parameter)\n",
    "    \n",
    "    p_spam_given_message = p_spam*np.product(vocab_spam_percentage)*np.product(not_vocab_spam_percentage)\n",
    "    p_ham_given_message = p_ham*np.product(vocab_ham_percentage)*np.product(not_vocab_ham_percentage)\n",
    "    \n",
    "    print('P(Spam|message):', p_spam_given_message)\n",
    "    print('P(Ham|message):', p_ham_given_message)\n",
    "    \n",
    "    if p_ham_given_message > p_spam_given_message:\n",
    "        print('This is a ham message')\n",
    "    elif p_ham_given_message < p_spam_given_message:\n",
    "        print('This is a spam message')\n",
    "    else:\n",
    "        print('Equal probabilities. The message needs to be classified by humans!')"
   ]
  },
  {
   "cell_type": "markdown",
   "id": "04d529e6",
   "metadata": {},
   "source": [
    "Now, we are going to test the function above with a random message to see what the output looks like."
   ]
  },
  {
   "cell_type": "code",
   "execution_count": 22,
   "id": "f128fe49",
   "metadata": {
    "scrolled": false
   },
   "outputs": [
    {
     "name": "stdout",
     "output_type": "stream",
     "text": [
      "P(Spam|message): 6.454145487419106e-20\n",
      "P(Ham|message): 7.331871177004851e-17\n",
      "This is a ham message\n"
     ]
    }
   ],
   "source": [
    "spam_detector_for_single_message(\"Hire me or regret later!\")"
   ]
  },
  {
   "cell_type": "markdown",
   "id": "009cf2f1",
   "metadata": {},
   "source": [
    "### The spam filter for datasets\n",
    "\n",
    "Next, we will create another function called **spam_detector_for_dataset**, which is appropriate for testing a dataset rather than a single message. To this end, we will modify the **spam_detector_for_single_message** by replacing all the function print() with return()."
   ]
  },
  {
   "cell_type": "code",
   "execution_count": 23,
   "id": "345435c1",
   "metadata": {},
   "outputs": [],
   "source": [
    "def spam_detector_for_dataset(message):\n",
    "    message = re.sub('\\W', ' ', message)\n",
    "    message = message.lower()\n",
    "    message = message.split()\n",
    "    \n",
    "    word_in_vocab = []\n",
    "    vocab_spam_percentage = []\n",
    "    vocab_ham_percentage = []\n",
    "    \n",
    "    word_not_in_vocab = []\n",
    "    not_vocab_spam_percentage = []\n",
    "    not_vocab_ham_percentage = []\n",
    "\n",
    "    \n",
    "    for word in message:\n",
    "        if word in vocabulary:\n",
    "            word_in_vocab.append(word)\n",
    "        else:\n",
    "            word_not_in_vocab.append(word)\n",
    "    \n",
    "    for word in word_in_vocab:\n",
    "        vocab_spam_percentage.append(spam_parameter[word])\n",
    "        vocab_ham_percentage.append(ham_parameter[word])\n",
    "    \n",
    "    for word in word_not_in_vocab:\n",
    "        not_vocab_spam_percentage.append(not_vocab_given_spam_parameter)\n",
    "        not_vocab_ham_percentage.append(not_vocab_given_ham_parameter)\n",
    "    \n",
    "    p_spam_given_message = p_spam*np.product(vocab_spam_percentage)*np.product(not_vocab_spam_percentage)\n",
    "    p_ham_given_message = p_ham*np.product(vocab_ham_percentage)*np.product(not_vocab_ham_percentage)\n",
    "    \n",
    "    if p_ham_given_message > p_spam_given_message:\n",
    "        return \"ham\"\n",
    "    elif p_ham_given_message < p_spam_given_message:\n",
    "        return \"spam\"\n",
    "    else:\n",
    "        return ('Equal proabilities. The message needs to be classified by humans!')"
   ]
  },
  {
   "cell_type": "markdown",
   "id": "15bb0996",
   "metadata": {},
   "source": [
    "Now, we are about to use the testing set to test the function above. All the outputs from the function will be placed in a new column named **\"Detection\"**."
   ]
  },
  {
   "cell_type": "code",
   "execution_count": 24,
   "id": "d4ccb029",
   "metadata": {
    "scrolled": true
   },
   "outputs": [
    {
     "data": {
      "text/html": [
       "<div>\n",
       "<style scoped>\n",
       "    .dataframe tbody tr th:only-of-type {\n",
       "        vertical-align: middle;\n",
       "    }\n",
       "\n",
       "    .dataframe tbody tr th {\n",
       "        vertical-align: top;\n",
       "    }\n",
       "\n",
       "    .dataframe thead th {\n",
       "        text-align: right;\n",
       "    }\n",
       "</style>\n",
       "<table border=\"1\" class=\"dataframe\">\n",
       "  <thead>\n",
       "    <tr style=\"text-align: right;\">\n",
       "      <th></th>\n",
       "      <th>Label</th>\n",
       "      <th>SMS</th>\n",
       "      <th>Detection</th>\n",
       "    </tr>\n",
       "  </thead>\n",
       "  <tbody>\n",
       "    <tr>\n",
       "      <th>0</th>\n",
       "      <td>ham</td>\n",
       "      <td>Aight should I just plan to come up later toni...</td>\n",
       "      <td>ham</td>\n",
       "    </tr>\n",
       "    <tr>\n",
       "      <th>1</th>\n",
       "      <td>ham</td>\n",
       "      <td>Die... I accidentally deleted e msg i suppose ...</td>\n",
       "      <td>ham</td>\n",
       "    </tr>\n",
       "    <tr>\n",
       "      <th>2</th>\n",
       "      <td>spam</td>\n",
       "      <td>Welcome to UK-mobile-date this msg is FREE giv...</td>\n",
       "      <td>spam</td>\n",
       "    </tr>\n",
       "    <tr>\n",
       "      <th>3</th>\n",
       "      <td>ham</td>\n",
       "      <td>This is wishing you a great day. Moji told me ...</td>\n",
       "      <td>ham</td>\n",
       "    </tr>\n",
       "    <tr>\n",
       "      <th>4</th>\n",
       "      <td>ham</td>\n",
       "      <td>Thanks again for your reply today. When is ur ...</td>\n",
       "      <td>ham</td>\n",
       "    </tr>\n",
       "    <tr>\n",
       "      <th>5</th>\n",
       "      <td>ham</td>\n",
       "      <td>Sorry I flaked last night, shit's seriously go...</td>\n",
       "      <td>ham</td>\n",
       "    </tr>\n",
       "    <tr>\n",
       "      <th>6</th>\n",
       "      <td>ham</td>\n",
       "      <td>He said i look pretty wif long hair wat. But i...</td>\n",
       "      <td>ham</td>\n",
       "    </tr>\n",
       "    <tr>\n",
       "      <th>7</th>\n",
       "      <td>ham</td>\n",
       "      <td>Ranjith cal drpd Deeraj and deepak 5min hold</td>\n",
       "      <td>ham</td>\n",
       "    </tr>\n",
       "    <tr>\n",
       "      <th>8</th>\n",
       "      <td>ham</td>\n",
       "      <td>CHEERS FOR CALLIN BABE.SOZI CULDNT TALKBUT I W...</td>\n",
       "      <td>ham</td>\n",
       "    </tr>\n",
       "    <tr>\n",
       "      <th>9</th>\n",
       "      <td>ham</td>\n",
       "      <td>Hey u still at the gym?</td>\n",
       "      <td>ham</td>\n",
       "    </tr>\n",
       "  </tbody>\n",
       "</table>\n",
       "</div>"
      ],
      "text/plain": [
       "  Label                                                SMS Detection\n",
       "0   ham  Aight should I just plan to come up later toni...       ham\n",
       "1   ham  Die... I accidentally deleted e msg i suppose ...       ham\n",
       "2  spam  Welcome to UK-mobile-date this msg is FREE giv...      spam\n",
       "3   ham  This is wishing you a great day. Moji told me ...       ham\n",
       "4   ham  Thanks again for your reply today. When is ur ...       ham\n",
       "5   ham  Sorry I flaked last night, shit's seriously go...       ham\n",
       "6   ham  He said i look pretty wif long hair wat. But i...       ham\n",
       "7   ham       Ranjith cal drpd Deeraj and deepak 5min hold       ham\n",
       "8   ham  CHEERS FOR CALLIN BABE.SOZI CULDNT TALKBUT I W...       ham\n",
       "9   ham                            Hey u still at the gym?       ham"
      ]
     },
     "execution_count": 24,
     "metadata": {},
     "output_type": "execute_result"
    }
   ],
   "source": [
    "testing_data[\"Detection\"] = testing_data[\"SMS\"].apply(spam_detector_for_dataset)\n",
    "testing_data.head(10)"
   ]
  },
  {
   "cell_type": "markdown",
   "id": "a310620a",
   "metadata": {},
   "source": [
    "## Model evaluation\n",
    "\n",
    "Finally, we will measure the accuracy of the spam filter by having the number of correctly classified messages by the\n",
    "total number of classified messages."
   ]
  },
  {
   "cell_type": "code",
   "execution_count": 25,
   "id": "fb7d25e3",
   "metadata": {},
   "outputs": [
    {
     "data": {
      "text/plain": [
       "0.9883303411131059"
      ]
     },
     "execution_count": 25,
     "metadata": {},
     "output_type": "execute_result"
    }
   ],
   "source": [
    "num_correct_label = 0\n",
    "\n",
    "for index, row in testing_data.iterrows():\n",
    "    label = row[\"Label\"]\n",
    "    detection = row[\"Detection\"]\n",
    "    \n",
    "    if label == detection:\n",
    "        num_correct_label += 1\n",
    "        \n",
    "accuracy = num_correct_label/len(testing_data)\n",
    "accuracy"
   ]
  },
  {
   "cell_type": "markdown",
   "id": "cb64a1d2",
   "metadata": {},
   "source": [
    "The accuracy rate of the spam filter is pretty high, indicating that the spam filter produces considerably reliable results. However, it is still suggested that further research could take other issues such as punctuation and capitalization into account when building a spam filter to see whether they help improve the accuracy of the filter."
   ]
  }
 ],
 "metadata": {
  "kernelspec": {
   "display_name": "Python 3 (ipykernel)",
   "language": "python",
   "name": "python3"
  },
  "language_info": {
   "codemirror_mode": {
    "name": "ipython",
    "version": 3
   },
   "file_extension": ".py",
   "mimetype": "text/x-python",
   "name": "python",
   "nbconvert_exporter": "python",
   "pygments_lexer": "ipython3",
   "version": "3.10.5"
  }
 },
 "nbformat": 4,
 "nbformat_minor": 5
}
