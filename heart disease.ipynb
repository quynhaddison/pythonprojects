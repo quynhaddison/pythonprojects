{
 "cells": [
  {
   "cell_type": "markdown",
   "id": "d2c8b517",
   "metadata": {},
   "source": [
    "# Predicting Heart Disease\n",
    "\n",
    "Addison 2022-03-26\n",
    "\n",
    "## Introduction\n",
    "\n",
    "This project aims to build a model to predict the probability of getting a heart disease of a person based on some information about their health condition. To this end, this project will use a dataset that contains 918 rows, each of which represents some demographic and health information of a patient. The dataset could be obtained through this link:\n",
    "\n",
    "https://www.kaggle.com/datasets/fedesoriano/heart-failure-prediction\n",
    "\n",
    "\n",
    "Here are the descriptions for all the columns:\n",
    "\n",
    "**Age** - age of a patient in years\n",
    "\n",
    "**Sex** - age of a patient (**M:** Male, **F:** Female)\n",
    "\n",
    "**ChestPainType** - chest pain type \n",
    "\n",
    "                + TA: Typical Angina\n",
    "                + ATA: Atypical Angina\n",
    "                + NAP: Non-Anginal Pain\n",
    "                + ASY: Asymptomatic\n",
    "\n",
    "**RestingBP** - resting blood pressure in mmHg\n",
    "\n",
    "**Cholesterol** - serum cholesterol in mg/dl\n",
    "\n",
    "**FastingBS** - fasting blood sugar (**1:** FastingBS > 120 mg/dl, **0:** other cases)\n",
    "\n",
    "**RestingECG** - resting electrocardiogram results\n",
    "                \n",
    "                + Normal: Normal\n",
    "                + ST: having ST-T wave abnormality (T wave inversions and/or ST elevation or depression of > 0.05 mV) \n",
    "                + LVH: showing probable or definite left ventricular hypertrophy by Estes' criteria\n",
    "                \n",
    "\n",
    "**MaxHR** - maximum heart rate achieved\n",
    "\n",
    "**ExerciseAngina** - exercise-induced angina (**Y:** Yes, **N:** No)\n",
    "\n",
    "**Oldpeak** - oldpeak = ST (numeric value measured in depression)\n",
    "\n",
    "**ST_Slope** - the slope of the peak exercise ST segment\n",
    "\n",
    "                + Up: upsloping\n",
    "                + Flat: flat \n",
    "                + Down: downsloping\n",
    "                \n",
    "**HeartDisease** - output class (**1:** heart disease, **0:** Normal)\n"
   ]
  },
  {
   "cell_type": "markdown",
   "id": "0d3030d5",
   "metadata": {},
   "source": [
    "## Exploring and Cleaning the Data\n",
    "\n",
    "To start with, let's have a quick look at the first few rows as well as essential information about the data to imagine how the data looks like as well as get to know the data types of columns as well as the number of unique and non-null values in each column."
   ]
  },
  {
   "cell_type": "code",
   "execution_count": 1,
   "id": "39dac811",
   "metadata": {
    "scrolled": true
   },
   "outputs": [],
   "source": [
    "import pandas as pd\n",
    "\n",
    "from sklearn.preprocessing import MinMaxScaler\n",
    "from sklearn.model_selection import train_test_split, GridSearchCV\n",
    "from sklearn.metrics import accuracy_score\n",
    "from sklearn.neighbors import KNeighborsClassifier\n",
    "\n",
    "from sklearn.datasets import make_classification\n",
    "from sklearn.ensemble import RandomForestClassifier\n",
    "\n",
    "import seaborn as sns\n",
    "import matplotlib.pyplot as plt"
   ]
  },
  {
   "cell_type": "code",
   "execution_count": 2,
   "id": "ed6f0705",
   "metadata": {
    "scrolled": true
   },
   "outputs": [
    {
     "data": {
      "text/html": [
       "<div>\n",
       "<style scoped>\n",
       "    .dataframe tbody tr th:only-of-type {\n",
       "        vertical-align: middle;\n",
       "    }\n",
       "\n",
       "    .dataframe tbody tr th {\n",
       "        vertical-align: top;\n",
       "    }\n",
       "\n",
       "    .dataframe thead th {\n",
       "        text-align: right;\n",
       "    }\n",
       "</style>\n",
       "<table border=\"1\" class=\"dataframe\">\n",
       "  <thead>\n",
       "    <tr style=\"text-align: right;\">\n",
       "      <th></th>\n",
       "      <th>Age</th>\n",
       "      <th>Sex</th>\n",
       "      <th>ChestPainType</th>\n",
       "      <th>RestingBP</th>\n",
       "      <th>Cholesterol</th>\n",
       "      <th>FastingBS</th>\n",
       "      <th>RestingECG</th>\n",
       "      <th>MaxHR</th>\n",
       "      <th>ExerciseAngina</th>\n",
       "      <th>Oldpeak</th>\n",
       "      <th>ST_Slope</th>\n",
       "      <th>HeartDisease</th>\n",
       "    </tr>\n",
       "  </thead>\n",
       "  <tbody>\n",
       "    <tr>\n",
       "      <th>0</th>\n",
       "      <td>40</td>\n",
       "      <td>M</td>\n",
       "      <td>ATA</td>\n",
       "      <td>140</td>\n",
       "      <td>289</td>\n",
       "      <td>0</td>\n",
       "      <td>Normal</td>\n",
       "      <td>172</td>\n",
       "      <td>N</td>\n",
       "      <td>0.0</td>\n",
       "      <td>Up</td>\n",
       "      <td>0</td>\n",
       "    </tr>\n",
       "    <tr>\n",
       "      <th>1</th>\n",
       "      <td>49</td>\n",
       "      <td>F</td>\n",
       "      <td>NAP</td>\n",
       "      <td>160</td>\n",
       "      <td>180</td>\n",
       "      <td>0</td>\n",
       "      <td>Normal</td>\n",
       "      <td>156</td>\n",
       "      <td>N</td>\n",
       "      <td>1.0</td>\n",
       "      <td>Flat</td>\n",
       "      <td>1</td>\n",
       "    </tr>\n",
       "    <tr>\n",
       "      <th>2</th>\n",
       "      <td>37</td>\n",
       "      <td>M</td>\n",
       "      <td>ATA</td>\n",
       "      <td>130</td>\n",
       "      <td>283</td>\n",
       "      <td>0</td>\n",
       "      <td>ST</td>\n",
       "      <td>98</td>\n",
       "      <td>N</td>\n",
       "      <td>0.0</td>\n",
       "      <td>Up</td>\n",
       "      <td>0</td>\n",
       "    </tr>\n",
       "    <tr>\n",
       "      <th>3</th>\n",
       "      <td>48</td>\n",
       "      <td>F</td>\n",
       "      <td>ASY</td>\n",
       "      <td>138</td>\n",
       "      <td>214</td>\n",
       "      <td>0</td>\n",
       "      <td>Normal</td>\n",
       "      <td>108</td>\n",
       "      <td>Y</td>\n",
       "      <td>1.5</td>\n",
       "      <td>Flat</td>\n",
       "      <td>1</td>\n",
       "    </tr>\n",
       "    <tr>\n",
       "      <th>4</th>\n",
       "      <td>54</td>\n",
       "      <td>M</td>\n",
       "      <td>NAP</td>\n",
       "      <td>150</td>\n",
       "      <td>195</td>\n",
       "      <td>0</td>\n",
       "      <td>Normal</td>\n",
       "      <td>122</td>\n",
       "      <td>N</td>\n",
       "      <td>0.0</td>\n",
       "      <td>Up</td>\n",
       "      <td>0</td>\n",
       "    </tr>\n",
       "  </tbody>\n",
       "</table>\n",
       "</div>"
      ],
      "text/plain": [
       "   Age Sex ChestPainType  RestingBP  Cholesterol  FastingBS RestingECG  MaxHR  \\\n",
       "0   40   M           ATA        140          289          0     Normal    172   \n",
       "1   49   F           NAP        160          180          0     Normal    156   \n",
       "2   37   M           ATA        130          283          0         ST     98   \n",
       "3   48   F           ASY        138          214          0     Normal    108   \n",
       "4   54   M           NAP        150          195          0     Normal    122   \n",
       "\n",
       "  ExerciseAngina  Oldpeak ST_Slope  HeartDisease  \n",
       "0              N      0.0       Up             0  \n",
       "1              N      1.0     Flat             1  \n",
       "2              N      0.0       Up             0  \n",
       "3              Y      1.5     Flat             1  \n",
       "4              N      0.0       Up             0  "
      ]
     },
     "execution_count": 2,
     "metadata": {},
     "output_type": "execute_result"
    }
   ],
   "source": [
    "data = pd.read_csv(\"heart.csv\")\n",
    "data.head()"
   ]
  },
  {
   "cell_type": "code",
   "execution_count": 3,
   "id": "dbd90f67",
   "metadata": {
    "scrolled": true
   },
   "outputs": [
    {
     "name": "stdout",
     "output_type": "stream",
     "text": [
      "<class 'pandas.core.frame.DataFrame'>\n",
      "RangeIndex: 918 entries, 0 to 917\n",
      "Data columns (total 12 columns):\n",
      " #   Column          Non-Null Count  Dtype  \n",
      "---  ------          --------------  -----  \n",
      " 0   Age             918 non-null    int64  \n",
      " 1   Sex             918 non-null    object \n",
      " 2   ChestPainType   918 non-null    object \n",
      " 3   RestingBP       918 non-null    int64  \n",
      " 4   Cholesterol     918 non-null    int64  \n",
      " 5   FastingBS       918 non-null    int64  \n",
      " 6   RestingECG      918 non-null    object \n",
      " 7   MaxHR           918 non-null    int64  \n",
      " 8   ExerciseAngina  918 non-null    object \n",
      " 9   Oldpeak         918 non-null    float64\n",
      " 10  ST_Slope        918 non-null    object \n",
      " 11  HeartDisease    918 non-null    int64  \n",
      "dtypes: float64(1), int64(6), object(5)\n",
      "memory usage: 86.2+ KB\n"
     ]
    }
   ],
   "source": [
    "data.info()"
   ]
  },
  {
   "cell_type": "code",
   "execution_count": 4,
   "id": "5759bbac",
   "metadata": {
    "scrolled": true
   },
   "outputs": [
    {
     "data": {
      "text/plain": [
       "Age                50\n",
       "Sex                 2\n",
       "ChestPainType       4\n",
       "RestingBP          67\n",
       "Cholesterol       222\n",
       "FastingBS           2\n",
       "RestingECG          3\n",
       "MaxHR             119\n",
       "ExerciseAngina      2\n",
       "Oldpeak            53\n",
       "ST_Slope            3\n",
       "HeartDisease        2\n",
       "dtype: int64"
      ]
     },
     "execution_count": 4,
     "metadata": {},
     "output_type": "execute_result"
    }
   ],
   "source": [
    "data.nunique()"
   ]
  },
  {
   "cell_type": "markdown",
   "id": "3605b82e",
   "metadata": {},
   "source": [
    "Based on the tables above, it is obvious that there are no null values in the dataset. Taking account of the description of columns, datatypes of columns, and the number of unique values in each column, we categorize columns as follows:\n",
    "\n",
    "- **categorial variables:** Sex, ChestPainType, FastingBS, RestingECG, ExerciseAngina, ST_Slope, HeartDisease \n",
    "- **numerical variables:** Age, RestingBP, Cholesterol, MaxHR, Oldpeak"
   ]
  },
  {
   "cell_type": "code",
   "execution_count": 5,
   "id": "263f151a",
   "metadata": {
    "scrolled": true
   },
   "outputs": [
    {
     "data": {
      "text/html": [
       "<div>\n",
       "<style scoped>\n",
       "    .dataframe tbody tr th:only-of-type {\n",
       "        vertical-align: middle;\n",
       "    }\n",
       "\n",
       "    .dataframe tbody tr th {\n",
       "        vertical-align: top;\n",
       "    }\n",
       "\n",
       "    .dataframe thead th {\n",
       "        text-align: right;\n",
       "    }\n",
       "</style>\n",
       "<table border=\"1\" class=\"dataframe\">\n",
       "  <thead>\n",
       "    <tr style=\"text-align: right;\">\n",
       "      <th></th>\n",
       "      <th>Age</th>\n",
       "      <th>RestingBP</th>\n",
       "      <th>Cholesterol</th>\n",
       "      <th>FastingBS</th>\n",
       "      <th>MaxHR</th>\n",
       "      <th>Oldpeak</th>\n",
       "      <th>HeartDisease</th>\n",
       "    </tr>\n",
       "  </thead>\n",
       "  <tbody>\n",
       "    <tr>\n",
       "      <th>count</th>\n",
       "      <td>918.000000</td>\n",
       "      <td>918.000000</td>\n",
       "      <td>918.000000</td>\n",
       "      <td>918.000000</td>\n",
       "      <td>918.000000</td>\n",
       "      <td>918.000000</td>\n",
       "      <td>918.000000</td>\n",
       "    </tr>\n",
       "    <tr>\n",
       "      <th>mean</th>\n",
       "      <td>53.510893</td>\n",
       "      <td>132.396514</td>\n",
       "      <td>198.799564</td>\n",
       "      <td>0.233115</td>\n",
       "      <td>136.809368</td>\n",
       "      <td>0.887364</td>\n",
       "      <td>0.553377</td>\n",
       "    </tr>\n",
       "    <tr>\n",
       "      <th>std</th>\n",
       "      <td>9.432617</td>\n",
       "      <td>18.514154</td>\n",
       "      <td>109.384145</td>\n",
       "      <td>0.423046</td>\n",
       "      <td>25.460334</td>\n",
       "      <td>1.066570</td>\n",
       "      <td>0.497414</td>\n",
       "    </tr>\n",
       "    <tr>\n",
       "      <th>min</th>\n",
       "      <td>28.000000</td>\n",
       "      <td>0.000000</td>\n",
       "      <td>0.000000</td>\n",
       "      <td>0.000000</td>\n",
       "      <td>60.000000</td>\n",
       "      <td>-2.600000</td>\n",
       "      <td>0.000000</td>\n",
       "    </tr>\n",
       "    <tr>\n",
       "      <th>25%</th>\n",
       "      <td>47.000000</td>\n",
       "      <td>120.000000</td>\n",
       "      <td>173.250000</td>\n",
       "      <td>0.000000</td>\n",
       "      <td>120.000000</td>\n",
       "      <td>0.000000</td>\n",
       "      <td>0.000000</td>\n",
       "    </tr>\n",
       "    <tr>\n",
       "      <th>50%</th>\n",
       "      <td>54.000000</td>\n",
       "      <td>130.000000</td>\n",
       "      <td>223.000000</td>\n",
       "      <td>0.000000</td>\n",
       "      <td>138.000000</td>\n",
       "      <td>0.600000</td>\n",
       "      <td>1.000000</td>\n",
       "    </tr>\n",
       "    <tr>\n",
       "      <th>75%</th>\n",
       "      <td>60.000000</td>\n",
       "      <td>140.000000</td>\n",
       "      <td>267.000000</td>\n",
       "      <td>0.000000</td>\n",
       "      <td>156.000000</td>\n",
       "      <td>1.500000</td>\n",
       "      <td>1.000000</td>\n",
       "    </tr>\n",
       "    <tr>\n",
       "      <th>max</th>\n",
       "      <td>77.000000</td>\n",
       "      <td>200.000000</td>\n",
       "      <td>603.000000</td>\n",
       "      <td>1.000000</td>\n",
       "      <td>202.000000</td>\n",
       "      <td>6.200000</td>\n",
       "      <td>1.000000</td>\n",
       "    </tr>\n",
       "  </tbody>\n",
       "</table>\n",
       "</div>"
      ],
      "text/plain": [
       "              Age   RestingBP  Cholesterol   FastingBS       MaxHR  \\\n",
       "count  918.000000  918.000000   918.000000  918.000000  918.000000   \n",
       "mean    53.510893  132.396514   198.799564    0.233115  136.809368   \n",
       "std      9.432617   18.514154   109.384145    0.423046   25.460334   \n",
       "min     28.000000    0.000000     0.000000    0.000000   60.000000   \n",
       "25%     47.000000  120.000000   173.250000    0.000000  120.000000   \n",
       "50%     54.000000  130.000000   223.000000    0.000000  138.000000   \n",
       "75%     60.000000  140.000000   267.000000    0.000000  156.000000   \n",
       "max     77.000000  200.000000   603.000000    1.000000  202.000000   \n",
       "\n",
       "          Oldpeak  HeartDisease  \n",
       "count  918.000000    918.000000  \n",
       "mean     0.887364      0.553377  \n",
       "std      1.066570      0.497414  \n",
       "min     -2.600000      0.000000  \n",
       "25%      0.000000      0.000000  \n",
       "50%      0.600000      1.000000  \n",
       "75%      1.500000      1.000000  \n",
       "max      6.200000      1.000000  "
      ]
     },
     "execution_count": 5,
     "metadata": {},
     "output_type": "execute_result"
    }
   ],
   "source": [
    "data.describe()"
   ]
  },
  {
   "cell_type": "markdown",
   "id": "2a6f17f9",
   "metadata": {},
   "source": [
    "It is not reasonable that **RestingBP** and **Cholesterol** = 0. We will examine rows having patterns like that and then apply suitable data cleaning methods."
   ]
  },
  {
   "cell_type": "code",
   "execution_count": 6,
   "id": "0058ed8a",
   "metadata": {},
   "outputs": [
    {
     "data": {
      "text/html": [
       "<div>\n",
       "<style scoped>\n",
       "    .dataframe tbody tr th:only-of-type {\n",
       "        vertical-align: middle;\n",
       "    }\n",
       "\n",
       "    .dataframe tbody tr th {\n",
       "        vertical-align: top;\n",
       "    }\n",
       "\n",
       "    .dataframe thead th {\n",
       "        text-align: right;\n",
       "    }\n",
       "</style>\n",
       "<table border=\"1\" class=\"dataframe\">\n",
       "  <thead>\n",
       "    <tr style=\"text-align: right;\">\n",
       "      <th></th>\n",
       "      <th>Age</th>\n",
       "      <th>Sex</th>\n",
       "      <th>ChestPainType</th>\n",
       "      <th>RestingBP</th>\n",
       "      <th>Cholesterol</th>\n",
       "      <th>FastingBS</th>\n",
       "      <th>RestingECG</th>\n",
       "      <th>MaxHR</th>\n",
       "      <th>ExerciseAngina</th>\n",
       "      <th>Oldpeak</th>\n",
       "      <th>ST_Slope</th>\n",
       "      <th>HeartDisease</th>\n",
       "    </tr>\n",
       "  </thead>\n",
       "  <tbody>\n",
       "    <tr>\n",
       "      <th>449</th>\n",
       "      <td>55</td>\n",
       "      <td>M</td>\n",
       "      <td>NAP</td>\n",
       "      <td>0</td>\n",
       "      <td>0</td>\n",
       "      <td>0</td>\n",
       "      <td>Normal</td>\n",
       "      <td>155</td>\n",
       "      <td>N</td>\n",
       "      <td>1.5</td>\n",
       "      <td>Flat</td>\n",
       "      <td>1</td>\n",
       "    </tr>\n",
       "  </tbody>\n",
       "</table>\n",
       "</div>"
      ],
      "text/plain": [
       "     Age Sex ChestPainType  RestingBP  Cholesterol  FastingBS RestingECG  \\\n",
       "449   55   M           NAP          0            0          0     Normal   \n",
       "\n",
       "     MaxHR ExerciseAngina  Oldpeak ST_Slope  HeartDisease  \n",
       "449    155              N      1.5     Flat             1  "
      ]
     },
     "execution_count": 6,
     "metadata": {},
     "output_type": "execute_result"
    }
   ],
   "source": [
    "data[data[\"RestingBP\"] == 0]\n"
   ]
  },
  {
   "cell_type": "code",
   "execution_count": 7,
   "id": "bb62cb33",
   "metadata": {},
   "outputs": [
    {
     "data": {
      "text/html": [
       "<div>\n",
       "<style scoped>\n",
       "    .dataframe tbody tr th:only-of-type {\n",
       "        vertical-align: middle;\n",
       "    }\n",
       "\n",
       "    .dataframe tbody tr th {\n",
       "        vertical-align: top;\n",
       "    }\n",
       "\n",
       "    .dataframe thead th {\n",
       "        text-align: right;\n",
       "    }\n",
       "</style>\n",
       "<table border=\"1\" class=\"dataframe\">\n",
       "  <thead>\n",
       "    <tr style=\"text-align: right;\">\n",
       "      <th></th>\n",
       "      <th>Age</th>\n",
       "      <th>Sex</th>\n",
       "      <th>ChestPainType</th>\n",
       "      <th>RestingBP</th>\n",
       "      <th>Cholesterol</th>\n",
       "      <th>FastingBS</th>\n",
       "      <th>RestingECG</th>\n",
       "      <th>MaxHR</th>\n",
       "      <th>ExerciseAngina</th>\n",
       "      <th>Oldpeak</th>\n",
       "      <th>ST_Slope</th>\n",
       "      <th>HeartDisease</th>\n",
       "    </tr>\n",
       "  </thead>\n",
       "  <tbody>\n",
       "    <tr>\n",
       "      <th>293</th>\n",
       "      <td>65</td>\n",
       "      <td>M</td>\n",
       "      <td>ASY</td>\n",
       "      <td>115</td>\n",
       "      <td>0</td>\n",
       "      <td>0</td>\n",
       "      <td>Normal</td>\n",
       "      <td>93</td>\n",
       "      <td>Y</td>\n",
       "      <td>0.0</td>\n",
       "      <td>Flat</td>\n",
       "      <td>1</td>\n",
       "    </tr>\n",
       "    <tr>\n",
       "      <th>294</th>\n",
       "      <td>32</td>\n",
       "      <td>M</td>\n",
       "      <td>TA</td>\n",
       "      <td>95</td>\n",
       "      <td>0</td>\n",
       "      <td>1</td>\n",
       "      <td>Normal</td>\n",
       "      <td>127</td>\n",
       "      <td>N</td>\n",
       "      <td>0.7</td>\n",
       "      <td>Up</td>\n",
       "      <td>1</td>\n",
       "    </tr>\n",
       "    <tr>\n",
       "      <th>295</th>\n",
       "      <td>61</td>\n",
       "      <td>M</td>\n",
       "      <td>ASY</td>\n",
       "      <td>105</td>\n",
       "      <td>0</td>\n",
       "      <td>1</td>\n",
       "      <td>Normal</td>\n",
       "      <td>110</td>\n",
       "      <td>Y</td>\n",
       "      <td>1.5</td>\n",
       "      <td>Up</td>\n",
       "      <td>1</td>\n",
       "    </tr>\n",
       "    <tr>\n",
       "      <th>296</th>\n",
       "      <td>50</td>\n",
       "      <td>M</td>\n",
       "      <td>ASY</td>\n",
       "      <td>145</td>\n",
       "      <td>0</td>\n",
       "      <td>1</td>\n",
       "      <td>Normal</td>\n",
       "      <td>139</td>\n",
       "      <td>Y</td>\n",
       "      <td>0.7</td>\n",
       "      <td>Flat</td>\n",
       "      <td>1</td>\n",
       "    </tr>\n",
       "    <tr>\n",
       "      <th>297</th>\n",
       "      <td>57</td>\n",
       "      <td>M</td>\n",
       "      <td>ASY</td>\n",
       "      <td>110</td>\n",
       "      <td>0</td>\n",
       "      <td>1</td>\n",
       "      <td>ST</td>\n",
       "      <td>131</td>\n",
       "      <td>Y</td>\n",
       "      <td>1.4</td>\n",
       "      <td>Up</td>\n",
       "      <td>1</td>\n",
       "    </tr>\n",
       "    <tr>\n",
       "      <th>...</th>\n",
       "      <td>...</td>\n",
       "      <td>...</td>\n",
       "      <td>...</td>\n",
       "      <td>...</td>\n",
       "      <td>...</td>\n",
       "      <td>...</td>\n",
       "      <td>...</td>\n",
       "      <td>...</td>\n",
       "      <td>...</td>\n",
       "      <td>...</td>\n",
       "      <td>...</td>\n",
       "      <td>...</td>\n",
       "    </tr>\n",
       "    <tr>\n",
       "      <th>514</th>\n",
       "      <td>43</td>\n",
       "      <td>M</td>\n",
       "      <td>ASY</td>\n",
       "      <td>122</td>\n",
       "      <td>0</td>\n",
       "      <td>0</td>\n",
       "      <td>Normal</td>\n",
       "      <td>120</td>\n",
       "      <td>N</td>\n",
       "      <td>0.5</td>\n",
       "      <td>Up</td>\n",
       "      <td>1</td>\n",
       "    </tr>\n",
       "    <tr>\n",
       "      <th>515</th>\n",
       "      <td>63</td>\n",
       "      <td>M</td>\n",
       "      <td>NAP</td>\n",
       "      <td>130</td>\n",
       "      <td>0</td>\n",
       "      <td>1</td>\n",
       "      <td>ST</td>\n",
       "      <td>160</td>\n",
       "      <td>N</td>\n",
       "      <td>3.0</td>\n",
       "      <td>Flat</td>\n",
       "      <td>0</td>\n",
       "    </tr>\n",
       "    <tr>\n",
       "      <th>518</th>\n",
       "      <td>48</td>\n",
       "      <td>M</td>\n",
       "      <td>NAP</td>\n",
       "      <td>102</td>\n",
       "      <td>0</td>\n",
       "      <td>1</td>\n",
       "      <td>ST</td>\n",
       "      <td>110</td>\n",
       "      <td>Y</td>\n",
       "      <td>1.0</td>\n",
       "      <td>Down</td>\n",
       "      <td>1</td>\n",
       "    </tr>\n",
       "    <tr>\n",
       "      <th>535</th>\n",
       "      <td>56</td>\n",
       "      <td>M</td>\n",
       "      <td>ASY</td>\n",
       "      <td>130</td>\n",
       "      <td>0</td>\n",
       "      <td>0</td>\n",
       "      <td>LVH</td>\n",
       "      <td>122</td>\n",
       "      <td>Y</td>\n",
       "      <td>1.0</td>\n",
       "      <td>Flat</td>\n",
       "      <td>1</td>\n",
       "    </tr>\n",
       "    <tr>\n",
       "      <th>536</th>\n",
       "      <td>62</td>\n",
       "      <td>M</td>\n",
       "      <td>NAP</td>\n",
       "      <td>133</td>\n",
       "      <td>0</td>\n",
       "      <td>1</td>\n",
       "      <td>ST</td>\n",
       "      <td>119</td>\n",
       "      <td>Y</td>\n",
       "      <td>1.2</td>\n",
       "      <td>Flat</td>\n",
       "      <td>1</td>\n",
       "    </tr>\n",
       "  </tbody>\n",
       "</table>\n",
       "<p>172 rows × 12 columns</p>\n",
       "</div>"
      ],
      "text/plain": [
       "     Age Sex ChestPainType  RestingBP  Cholesterol  FastingBS RestingECG  \\\n",
       "293   65   M           ASY        115            0          0     Normal   \n",
       "294   32   M            TA         95            0          1     Normal   \n",
       "295   61   M           ASY        105            0          1     Normal   \n",
       "296   50   M           ASY        145            0          1     Normal   \n",
       "297   57   M           ASY        110            0          1         ST   \n",
       "..   ...  ..           ...        ...          ...        ...        ...   \n",
       "514   43   M           ASY        122            0          0     Normal   \n",
       "515   63   M           NAP        130            0          1         ST   \n",
       "518   48   M           NAP        102            0          1         ST   \n",
       "535   56   M           ASY        130            0          0        LVH   \n",
       "536   62   M           NAP        133            0          1         ST   \n",
       "\n",
       "     MaxHR ExerciseAngina  Oldpeak ST_Slope  HeartDisease  \n",
       "293     93              Y      0.0     Flat             1  \n",
       "294    127              N      0.7       Up             1  \n",
       "295    110              Y      1.5       Up             1  \n",
       "296    139              Y      0.7     Flat             1  \n",
       "297    131              Y      1.4       Up             1  \n",
       "..     ...            ...      ...      ...           ...  \n",
       "514    120              N      0.5       Up             1  \n",
       "515    160              N      3.0     Flat             0  \n",
       "518    110              Y      1.0     Down             1  \n",
       "535    122              Y      1.0     Flat             1  \n",
       "536    119              Y      1.2     Flat             1  \n",
       "\n",
       "[172 rows x 12 columns]"
      ]
     },
     "execution_count": 7,
     "metadata": {},
     "output_type": "execute_result"
    }
   ],
   "source": [
    "data[data[\"Cholesterol\"] == 0]\n"
   ]
  },
  {
   "cell_type": "markdown",
   "id": "64f39dcb",
   "metadata": {},
   "source": [
    "Since there is only one row whose **RestingBP** = 0, we are going to delete it since the removal of this row will almost not affect our data analysis. \n",
    "\n",
    "On the other hand, there are 172 rows whose **Cholesterol** = 0, making up nearly 20% of the dataset. Thus, instead of removing these rows, we are going to replace **Cholesterol** values of 0 with the corresponding median of **Cholesterol** values.\n",
    "- In case a patient whose **Cholesterol** = 0 was diagnosed with heart disease (**Heart Disease** = 1), this **Cholesterol** value will be replaced with the median of non-zero **Cholesterol** values whose  corresponding **Heart Disease** values = 1\n",
    "\n",
    "- In case a patient whose **Cholesterol** = 0 was not diagnosed with heart disease (**Heart Disease** = 0), this **Cholesterol** value will be replaced with the median of non-zero **Cholesterol** values whose corresponding **Heart Disease** values = 0"
   ]
  },
  {
   "cell_type": "code",
   "execution_count": 8,
   "id": "07cb0f00",
   "metadata": {
    "scrolled": true
   },
   "outputs": [],
   "source": [
    "data_1 = data[data[\"RestingBP\"] != 0]"
   ]
  },
  {
   "cell_type": "code",
   "execution_count": 9,
   "id": "2b3fcbc2",
   "metadata": {},
   "outputs": [
    {
     "data": {
      "text/plain": [
       "246.0"
      ]
     },
     "execution_count": 9,
     "metadata": {},
     "output_type": "execute_result"
    }
   ],
   "source": [
    "median_c_h1 = data_1[(data_1[\"Cholesterol\"] != 0) & (data_1[\"HeartDisease\"] == 1)][\"Cholesterol\"].median()\n",
    "median_c_h1"
   ]
  },
  {
   "cell_type": "code",
   "execution_count": 10,
   "id": "c5b16aa3",
   "metadata": {},
   "outputs": [
    {
     "data": {
      "text/plain": [
       "231.5"
      ]
     },
     "execution_count": 10,
     "metadata": {},
     "output_type": "execute_result"
    }
   ],
   "source": [
    "median_c_h0 = data_1[(data_1[\"Cholesterol\"] != 0) & (data_1[\"HeartDisease\"] == 0)][\"Cholesterol\"].median()\n",
    "median_c_h0"
   ]
  },
  {
   "cell_type": "code",
   "execution_count": 11,
   "id": "4fe8e7a0",
   "metadata": {
    "scrolled": true
   },
   "outputs": [],
   "source": [
    "data_1.loc[(data_1[\"HeartDisease\"] == 1) & (data_1[\"Cholesterol\"] == 0) , \"Cholesterol\"] = 246 "
   ]
  },
  {
   "cell_type": "code",
   "execution_count": 12,
   "id": "904eadc9",
   "metadata": {},
   "outputs": [
    {
     "name": "stderr",
     "output_type": "stream",
     "text": [
      "/var/folders/tl/svtqjw_s0kn4lpthrk3xjwpr0000gn/T/ipykernel_9615/2280276721.py:1: SettingWithCopyWarning: \n",
      "A value is trying to be set on a copy of a slice from a DataFrame.\n",
      "Try using .loc[row_indexer,col_indexer] = value instead\n",
      "\n",
      "See the caveats in the documentation: https://pandas.pydata.org/pandas-docs/stable/user_guide/indexing.html#returning-a-view-versus-a-copy\n",
      "  data_1.loc[(data_1[\"HeartDisease\"] == 0) & (data_1[\"Cholesterol\"] == 0) , \"Cholesterol\"] = 231.5\n"
     ]
    }
   ],
   "source": [
    "data_1.loc[(data_1[\"HeartDisease\"] == 0) & (data_1[\"Cholesterol\"] == 0) , \"Cholesterol\"] = 231.5 "
   ]
  },
  {
   "cell_type": "code",
   "execution_count": 13,
   "id": "e7354d51",
   "metadata": {},
   "outputs": [
    {
     "data": {
      "text/html": [
       "<div>\n",
       "<style scoped>\n",
       "    .dataframe tbody tr th:only-of-type {\n",
       "        vertical-align: middle;\n",
       "    }\n",
       "\n",
       "    .dataframe tbody tr th {\n",
       "        vertical-align: top;\n",
       "    }\n",
       "\n",
       "    .dataframe thead th {\n",
       "        text-align: right;\n",
       "    }\n",
       "</style>\n",
       "<table border=\"1\" class=\"dataframe\">\n",
       "  <thead>\n",
       "    <tr style=\"text-align: right;\">\n",
       "      <th></th>\n",
       "      <th>Age</th>\n",
       "      <th>RestingBP</th>\n",
       "      <th>Cholesterol</th>\n",
       "      <th>FastingBS</th>\n",
       "      <th>MaxHR</th>\n",
       "      <th>Oldpeak</th>\n",
       "      <th>HeartDisease</th>\n",
       "    </tr>\n",
       "  </thead>\n",
       "  <tbody>\n",
       "    <tr>\n",
       "      <th>count</th>\n",
       "      <td>917.000000</td>\n",
       "      <td>917.000000</td>\n",
       "      <td>917.000000</td>\n",
       "      <td>917.000000</td>\n",
       "      <td>917.000000</td>\n",
       "      <td>917.000000</td>\n",
       "      <td>917.000000</td>\n",
       "    </tr>\n",
       "    <tr>\n",
       "      <th>mean</th>\n",
       "      <td>53.509269</td>\n",
       "      <td>132.540894</td>\n",
       "      <td>244.573610</td>\n",
       "      <td>0.233370</td>\n",
       "      <td>136.789531</td>\n",
       "      <td>0.886696</td>\n",
       "      <td>0.552890</td>\n",
       "    </tr>\n",
       "    <tr>\n",
       "      <th>std</th>\n",
       "      <td>9.437636</td>\n",
       "      <td>17.999749</td>\n",
       "      <td>53.385261</td>\n",
       "      <td>0.423206</td>\n",
       "      <td>25.467129</td>\n",
       "      <td>1.066960</td>\n",
       "      <td>0.497466</td>\n",
       "    </tr>\n",
       "    <tr>\n",
       "      <th>min</th>\n",
       "      <td>28.000000</td>\n",
       "      <td>80.000000</td>\n",
       "      <td>85.000000</td>\n",
       "      <td>0.000000</td>\n",
       "      <td>60.000000</td>\n",
       "      <td>-2.600000</td>\n",
       "      <td>0.000000</td>\n",
       "    </tr>\n",
       "    <tr>\n",
       "      <th>25%</th>\n",
       "      <td>47.000000</td>\n",
       "      <td>120.000000</td>\n",
       "      <td>214.000000</td>\n",
       "      <td>0.000000</td>\n",
       "      <td>120.000000</td>\n",
       "      <td>0.000000</td>\n",
       "      <td>0.000000</td>\n",
       "    </tr>\n",
       "    <tr>\n",
       "      <th>50%</th>\n",
       "      <td>54.000000</td>\n",
       "      <td>130.000000</td>\n",
       "      <td>246.000000</td>\n",
       "      <td>0.000000</td>\n",
       "      <td>138.000000</td>\n",
       "      <td>0.600000</td>\n",
       "      <td>1.000000</td>\n",
       "    </tr>\n",
       "    <tr>\n",
       "      <th>75%</th>\n",
       "      <td>60.000000</td>\n",
       "      <td>140.000000</td>\n",
       "      <td>267.000000</td>\n",
       "      <td>0.000000</td>\n",
       "      <td>156.000000</td>\n",
       "      <td>1.500000</td>\n",
       "      <td>1.000000</td>\n",
       "    </tr>\n",
       "    <tr>\n",
       "      <th>max</th>\n",
       "      <td>77.000000</td>\n",
       "      <td>200.000000</td>\n",
       "      <td>603.000000</td>\n",
       "      <td>1.000000</td>\n",
       "      <td>202.000000</td>\n",
       "      <td>6.200000</td>\n",
       "      <td>1.000000</td>\n",
       "    </tr>\n",
       "  </tbody>\n",
       "</table>\n",
       "</div>"
      ],
      "text/plain": [
       "              Age   RestingBP  Cholesterol   FastingBS       MaxHR  \\\n",
       "count  917.000000  917.000000   917.000000  917.000000  917.000000   \n",
       "mean    53.509269  132.540894   244.573610    0.233370  136.789531   \n",
       "std      9.437636   17.999749    53.385261    0.423206   25.467129   \n",
       "min     28.000000   80.000000    85.000000    0.000000   60.000000   \n",
       "25%     47.000000  120.000000   214.000000    0.000000  120.000000   \n",
       "50%     54.000000  130.000000   246.000000    0.000000  138.000000   \n",
       "75%     60.000000  140.000000   267.000000    0.000000  156.000000   \n",
       "max     77.000000  200.000000   603.000000    1.000000  202.000000   \n",
       "\n",
       "          Oldpeak  HeartDisease  \n",
       "count  917.000000    917.000000  \n",
       "mean     0.886696      0.552890  \n",
       "std      1.066960      0.497466  \n",
       "min     -2.600000      0.000000  \n",
       "25%      0.000000      0.000000  \n",
       "50%      0.600000      1.000000  \n",
       "75%      1.500000      1.000000  \n",
       "max      6.200000      1.000000  "
      ]
     },
     "execution_count": 13,
     "metadata": {},
     "output_type": "execute_result"
    }
   ],
   "source": [
    "data_1.describe()\n"
   ]
  },
  {
   "cell_type": "markdown",
   "id": "39c7a582",
   "metadata": {},
   "source": [
    "The minimum values of **Cholesterol** and **RestingBP** changed after we cleaned the dataset. All the values in the dataset look reasonable now.\n",
    "\n",
    "Based on the table above, we can see that the average age of patients in the dataset is about 53.5, suggesting that they are likely to be vulnerable to diseases since they are getting old. Their average **RestingBP** (normal: < 120)  and **Cholesterol** (normal: < 200) are high, explaining why the majority of patients in the dataset were diagnosed with heart disease (mean of **HeartDisease** > 0.5) since these two factors are commonly known for linking to heart disease.\n",
    "\n",
    "Next, we will visualize the categorical variables for exploratory purposes."
   ]
  },
  {
   "cell_type": "code",
   "execution_count": 14,
   "id": "25d5edaa",
   "metadata": {},
   "outputs": [
    {
     "data": {
      "image/png": "[encoded data removed]",
      "text/plain": [
       "<Figure size 1152x1080 with 6 Axes>"
      ]
     },
     "metadata": {
      "needs_background": "light"
     },
     "output_type": "display_data"
    }
   ],
   "source": [
    "cat_column = [\"Sex\", \"ChestPainType\", \"FastingBS\", \"RestingECG\", \"ExerciseAngina\", \"ST_Slope\", \"HeartDisease\"]\n",
    "fig = plt.figure(figsize=(16,15))\n",
    "\n",
    "for i, col in enumerate(cat_column[:-1]):\n",
    "    ax = plt.subplot(3, 2, i+1)\n",
    "    sns.countplot(x=data[col], hue=data[\"HeartDisease\"], ax=ax, palette = \"Set2\")\n",
    "    \n",
    "    for container in ax.containers:\n",
    "        ax.bar_label(container, label_type=\"center\")"
   ]
  },
  {
   "cell_type": "markdown",
   "id": "6cbf9370",
   "metadata": {},
   "source": [
    "From the charts above, it is evident that the **male patients outnumber their counterparts**, which could make our prediction model later biased. \n",
    "\n",
    "We also notice some patterns of patients:\n",
    "\n",
    "- Patients whose **FastingBS > 120 mg/dl** have a higher probability of getting heart disease than those whose **FastingBS < 120 mg/dl**.\n",
    "\n",
    "- Patients who have **exercise-induced** have a higher probability of getting heart disease than those who do not.\n",
    "\n",
    "- Patients who have **ASY chest pain type** have a higher probability of getting heart disease than those who have other chest pain types.\n",
    "\n",
    "- Patients who have **flat or down ST slope** have a higher probability of getting heart disease than those who have up ST slope."
   ]
  },
  {
   "cell_type": "markdown",
   "id": "735a53cc",
   "metadata": {},
   "source": [
    "## Data engineering\n",
    "\n",
    "Now, we are going to dummy-code categorical columns in the dataset."
   ]
  },
  {
   "cell_type": "code",
   "execution_count": 15,
   "id": "d059a71a",
   "metadata": {},
   "outputs": [
    {
     "data": {
      "text/html": [
       "<div>\n",
       "<style scoped>\n",
       "    .dataframe tbody tr th:only-of-type {\n",
       "        vertical-align: middle;\n",
       "    }\n",
       "\n",
       "    .dataframe tbody tr th {\n",
       "        vertical-align: top;\n",
       "    }\n",
       "\n",
       "    .dataframe thead th {\n",
       "        text-align: right;\n",
       "    }\n",
       "</style>\n",
       "<table border=\"1\" class=\"dataframe\">\n",
       "  <thead>\n",
       "    <tr style=\"text-align: right;\">\n",
       "      <th></th>\n",
       "      <th>Age</th>\n",
       "      <th>RestingBP</th>\n",
       "      <th>Cholesterol</th>\n",
       "      <th>FastingBS</th>\n",
       "      <th>MaxHR</th>\n",
       "      <th>Oldpeak</th>\n",
       "      <th>HeartDisease</th>\n",
       "      <th>Sex_M</th>\n",
       "      <th>ChestPainType_ATA</th>\n",
       "      <th>ChestPainType_NAP</th>\n",
       "      <th>ChestPainType_TA</th>\n",
       "      <th>RestingECG_Normal</th>\n",
       "      <th>RestingECG_ST</th>\n",
       "      <th>ExerciseAngina_Y</th>\n",
       "      <th>ST_Slope_Flat</th>\n",
       "      <th>ST_Slope_Up</th>\n",
       "    </tr>\n",
       "  </thead>\n",
       "  <tbody>\n",
       "    <tr>\n",
       "      <th>0</th>\n",
       "      <td>40</td>\n",
       "      <td>140</td>\n",
       "      <td>289.0</td>\n",
       "      <td>0</td>\n",
       "      <td>172</td>\n",
       "      <td>0.0</td>\n",
       "      <td>0</td>\n",
       "      <td>1</td>\n",
       "      <td>1</td>\n",
       "      <td>0</td>\n",
       "      <td>0</td>\n",
       "      <td>1</td>\n",
       "      <td>0</td>\n",
       "      <td>0</td>\n",
       "      <td>0</td>\n",
       "      <td>1</td>\n",
       "    </tr>\n",
       "    <tr>\n",
       "      <th>1</th>\n",
       "      <td>49</td>\n",
       "      <td>160</td>\n",
       "      <td>180.0</td>\n",
       "      <td>0</td>\n",
       "      <td>156</td>\n",
       "      <td>1.0</td>\n",
       "      <td>1</td>\n",
       "      <td>0</td>\n",
       "      <td>0</td>\n",
       "      <td>1</td>\n",
       "      <td>0</td>\n",
       "      <td>1</td>\n",
       "      <td>0</td>\n",
       "      <td>0</td>\n",
       "      <td>1</td>\n",
       "      <td>0</td>\n",
       "    </tr>\n",
       "    <tr>\n",
       "      <th>2</th>\n",
       "      <td>37</td>\n",
       "      <td>130</td>\n",
       "      <td>283.0</td>\n",
       "      <td>0</td>\n",
       "      <td>98</td>\n",
       "      <td>0.0</td>\n",
       "      <td>0</td>\n",
       "      <td>1</td>\n",
       "      <td>1</td>\n",
       "      <td>0</td>\n",
       "      <td>0</td>\n",
       "      <td>0</td>\n",
       "      <td>1</td>\n",
       "      <td>0</td>\n",
       "      <td>0</td>\n",
       "      <td>1</td>\n",
       "    </tr>\n",
       "    <tr>\n",
       "      <th>3</th>\n",
       "      <td>48</td>\n",
       "      <td>138</td>\n",
       "      <td>214.0</td>\n",
       "      <td>0</td>\n",
       "      <td>108</td>\n",
       "      <td>1.5</td>\n",
       "      <td>1</td>\n",
       "      <td>0</td>\n",
       "      <td>0</td>\n",
       "      <td>0</td>\n",
       "      <td>0</td>\n",
       "      <td>1</td>\n",
       "      <td>0</td>\n",
       "      <td>1</td>\n",
       "      <td>1</td>\n",
       "      <td>0</td>\n",
       "    </tr>\n",
       "    <tr>\n",
       "      <th>4</th>\n",
       "      <td>54</td>\n",
       "      <td>150</td>\n",
       "      <td>195.0</td>\n",
       "      <td>0</td>\n",
       "      <td>122</td>\n",
       "      <td>0.0</td>\n",
       "      <td>0</td>\n",
       "      <td>1</td>\n",
       "      <td>0</td>\n",
       "      <td>1</td>\n",
       "      <td>0</td>\n",
       "      <td>1</td>\n",
       "      <td>0</td>\n",
       "      <td>0</td>\n",
       "      <td>0</td>\n",
       "      <td>1</td>\n",
       "    </tr>\n",
       "  </tbody>\n",
       "</table>\n",
       "</div>"
      ],
      "text/plain": [
       "   Age  RestingBP  Cholesterol  FastingBS  MaxHR  Oldpeak  HeartDisease  \\\n",
       "0   40        140        289.0          0    172      0.0             0   \n",
       "1   49        160        180.0          0    156      1.0             1   \n",
       "2   37        130        283.0          0     98      0.0             0   \n",
       "3   48        138        214.0          0    108      1.5             1   \n",
       "4   54        150        195.0          0    122      0.0             0   \n",
       "\n",
       "   Sex_M  ChestPainType_ATA  ChestPainType_NAP  ChestPainType_TA  \\\n",
       "0      1                  1                  0                 0   \n",
       "1      0                  0                  1                 0   \n",
       "2      1                  1                  0                 0   \n",
       "3      0                  0                  0                 0   \n",
       "4      1                  0                  1                 0   \n",
       "\n",
       "   RestingECG_Normal  RestingECG_ST  ExerciseAngina_Y  ST_Slope_Flat  \\\n",
       "0                  1              0                 0              0   \n",
       "1                  1              0                 0              1   \n",
       "2                  0              1                 0              0   \n",
       "3                  1              0                 1              1   \n",
       "4                  1              0                 0              0   \n",
       "\n",
       "   ST_Slope_Up  \n",
       "0            1  \n",
       "1            0  \n",
       "2            1  \n",
       "3            0  \n",
       "4            1  "
      ]
     },
     "execution_count": 15,
     "metadata": {},
     "output_type": "execute_result"
    }
   ],
   "source": [
    "data_1_dummies = pd.get_dummies(data_1, drop_first=True)\n",
    "data_1_dummies.head()"
   ]
  },
  {
   "cell_type": "markdown",
   "id": "c9548b37",
   "metadata": {},
   "source": [
    "## Building a prediction model with all features\n",
    "\n",
    "In this section, we are about to build a prediction model with all features using the Random Forest Classifier and K Neighbors Classifier. \n",
    "\n",
    "In the next section, we will build a prediction model with selective features using the Random Forest Classifier and K Neighbors Classifier. \n",
    "\n",
    "We also will consider taking either of the two models concerning the trade-off between the speed of model operation and the accuracy of the model given that the Random Forest Classifier tends to generate more accurate results but more slowly than the other model."
   ]
  },
  {
   "cell_type": "markdown",
   "id": "9fd61b92",
   "metadata": {},
   "source": [
    "Now, we are going to split our dataset into training (70% of the dataset) and testing (30% of the dataset) sets. \n",
    "\n",
    "Since we use all the features in this section, the training set will include all the columns in the dataset except the **HeartDisease** column since it is our target.\n",
    "\n",
    "The testing test will include only the **HeartDisease** column since it is our target."
   ]
  },
  {
   "cell_type": "code",
   "execution_count": 16,
   "id": "b2064133",
   "metadata": {
    "scrolled": true
   },
   "outputs": [],
   "source": [
    "X = data_1_dummies.drop([\"HeartDisease\"], axis=1)\n",
    "y = data_1_dummies[\"HeartDisease\"]\n",
    "\n",
    "X_train, X_test, y_train, y_test = train_test_split(X, y, test_size=0.3, random_state = 777)\n"
   ]
  },
  {
   "cell_type": "markdown",
   "id": "e509bd25",
   "metadata": {},
   "source": [
    "Next, we will tune some parameters of our model, fit the dataset into the model, and then use grid search to find the best group of parameters and the best score among training models. We will use the Random Forest Classifier first."
   ]
  },
  {
   "cell_type": "code",
   "execution_count": 17,
   "id": "46303c2d",
   "metadata": {
    "scrolled": true
   },
   "outputs": [
    {
     "name": "stderr",
     "output_type": "stream",
     "text": [
      "/Library/Frameworks/Python.framework/Versions/3.10/lib/python3.10/site-packages/sklearn/model_selection/_validation.py:378: FitFailedWarning: \n",
      "250 fits failed out of a total of 3500.\n",
      "The score on these train-test partitions for these parameters will be set to nan.\n",
      "If these failures are not expected, you can try to debug them by setting error_score='raise'.\n",
      "\n",
      "Below are more details about the failures:\n",
      "--------------------------------------------------------------------------------\n",
      "250 fits failed with the following error:\n",
      "Traceback (most recent call last):\n",
      "  File \"/Library/Frameworks/Python.framework/Versions/3.10/lib/python3.10/site-packages/sklearn/model_selection/_validation.py\", line 686, in _fit_and_score\n",
      "    estimator.fit(X_train, y_train, **fit_params)\n",
      "  File \"/Library/Frameworks/Python.framework/Versions/3.10/lib/python3.10/site-packages/sklearn/ensemble/_forest.py\", line 476, in fit\n",
      "    trees = Parallel(\n",
      "  File \"/Library/Frameworks/Python.framework/Versions/3.10/lib/python3.10/site-packages/joblib/parallel.py\", line 1043, in __call__\n",
      "    if self.dispatch_one_batch(iterator):\n",
      "  File \"/Library/Frameworks/Python.framework/Versions/3.10/lib/python3.10/site-packages/joblib/parallel.py\", line 861, in dispatch_one_batch\n",
      "    self._dispatch(tasks)\n",
      "  File \"/Library/Frameworks/Python.framework/Versions/3.10/lib/python3.10/site-packages/joblib/parallel.py\", line 779, in _dispatch\n",
      "    job = self._backend.apply_async(batch, callback=cb)\n",
      "  File \"/Library/Frameworks/Python.framework/Versions/3.10/lib/python3.10/site-packages/joblib/_parallel_backends.py\", line 208, in apply_async\n",
      "    result = ImmediateResult(func)\n",
      "  File \"/Library/Frameworks/Python.framework/Versions/3.10/lib/python3.10/site-packages/joblib/_parallel_backends.py\", line 572, in __init__\n",
      "    self.results = batch()\n",
      "  File \"/Library/Frameworks/Python.framework/Versions/3.10/lib/python3.10/site-packages/joblib/parallel.py\", line 262, in __call__\n",
      "    return [func(*args, **kwargs)\n",
      "  File \"/Library/Frameworks/Python.framework/Versions/3.10/lib/python3.10/site-packages/joblib/parallel.py\", line 262, in <listcomp>\n",
      "    return [func(*args, **kwargs)\n",
      "  File \"/Library/Frameworks/Python.framework/Versions/3.10/lib/python3.10/site-packages/sklearn/utils/fixes.py\", line 117, in __call__\n",
      "    return self.function(*args, **kwargs)\n",
      "  File \"/Library/Frameworks/Python.framework/Versions/3.10/lib/python3.10/site-packages/sklearn/ensemble/_forest.py\", line 189, in _parallel_build_trees\n",
      "    tree.fit(X, y, sample_weight=curr_sample_weight, check_input=False)\n",
      "  File \"/Library/Frameworks/Python.framework/Versions/3.10/lib/python3.10/site-packages/sklearn/tree/_classes.py\", line 969, in fit\n",
      "    super().fit(\n",
      "  File \"/Library/Frameworks/Python.framework/Versions/3.10/lib/python3.10/site-packages/sklearn/tree/_classes.py\", line 325, in fit\n",
      "    check_scalar(\n",
      "  File \"/Library/Frameworks/Python.framework/Versions/3.10/lib/python3.10/site-packages/sklearn/utils/validation.py\", line 1480, in check_scalar\n",
      "    raise ValueError(\n",
      "ValueError: max_features == 0, must be >= 1.\n",
      "\n",
      "  warnings.warn(some_fits_failed_message, FitFailedWarning)\n",
      "/Library/Frameworks/Python.framework/Versions/3.10/lib/python3.10/site-packages/sklearn/model_selection/_search.py:953: UserWarning: One or more of the test scores are non-finite: [       nan        nan        nan        nan        nan 0.85326923\n",
      " 0.85798077 0.85951923 0.85487981 0.84701923 0.84237981 0.84391827\n",
      " 0.83766827 0.85175481 0.84545673 0.83610577 0.83764423 0.83298077\n",
      " 0.83144231 0.83298077 0.82362981 0.82675481 0.82985577 0.82677885\n",
      " 0.82831731 0.82521635 0.82519231 0.82521635 0.82365385 0.82516827\n",
      " 0.82675481 0.81896635 0.82209135 0.82365385 0.81896635 0.82052885\n",
      " 0.81896635 0.82052885 0.82209135 0.82052885 0.81740385 0.82052885\n",
      " 0.81896635 0.82052885 0.81896635 0.81740385 0.81896635 0.81740385\n",
      " 0.81740385 0.81740385 0.81896635 0.81740385 0.81740385 0.81740385\n",
      " 0.81740385 0.81740385 0.81896635 0.81740385 0.81740385 0.81740385\n",
      " 0.81740385 0.81740385 0.81740385 0.81740385 0.81740385 0.81740385\n",
      " 0.81740385 0.81740385 0.81740385 0.81740385        nan        nan\n",
      "        nan        nan        nan 0.85329327 0.85170673 0.85485577\n",
      " 0.85329327 0.85016827 0.83923077 0.84081731 0.84704327 0.84389423\n",
      " 0.84704327 0.83298077 0.83454327 0.83451923 0.83300481 0.82675481\n",
      " 0.82209135 0.82831731 0.83298077 0.82990385 0.82990385 0.82675481\n",
      " 0.82987981 0.82673077 0.82365385 0.82677885 0.82677885 0.82519231\n",
      " 0.82362981 0.82209135 0.82209135 0.82365385 0.81896635 0.82052885\n",
      " 0.82209135 0.82365385 0.82209135 0.82052885 0.81896635 0.81896635\n",
      " 0.81896635 0.82052885 0.81896635 0.81896635 0.81896635 0.81896635\n",
      " 0.81896635 0.81896635 0.81896635 0.81896635 0.81740385 0.81740385\n",
      " 0.81740385 0.81896635 0.81740385 0.81740385 0.81740385 0.81740385\n",
      " 0.81740385 0.81740385 0.81740385 0.81740385 0.81740385 0.81740385\n",
      " 0.81740385 0.81740385        nan        nan        nan        nan\n",
      "        nan 0.85329327 0.85173077 0.85483173 0.85485577 0.85485577\n",
      " 0.84076923 0.83295673 0.84545673 0.84233173 0.83298077 0.83456731\n",
      " 0.83300481 0.83454327 0.83454327 0.82831731 0.83141827 0.82985577\n",
      " 0.82519231 0.82677885 0.82673077 0.82673077 0.82829327 0.82670673\n",
      " 0.82209135 0.82985577 0.82209135 0.82519231 0.82362981 0.82675481\n",
      " 0.82209135 0.82209135 0.82209135 0.82052885 0.82209135 0.82052885\n",
      " 0.82052885 0.81740385 0.81896635 0.82052885 0.82052885 0.81740385\n",
      " 0.81740385 0.81740385 0.81896635 0.81896635 0.81740385 0.81740385\n",
      " 0.81740385 0.81896635 0.81740385 0.81740385 0.81740385 0.81740385\n",
      " 0.81740385 0.81740385 0.81740385 0.81740385 0.81740385 0.81740385\n",
      " 0.81740385 0.81740385 0.81740385 0.81740385 0.81740385 0.81740385\n",
      "        nan        nan        nan        nan        nan 0.85951923\n",
      " 0.85798077 0.84704327 0.85485577 0.85170673 0.84394231 0.83298077\n",
      " 0.85016827 0.85173077 0.84391827 0.82829327 0.83139423 0.83451923\n",
      " 0.82829327 0.83608173 0.82829327 0.82985577 0.82673077 0.82521635\n",
      " 0.82829327 0.82362981 0.82990385 0.82519231 0.82521635 0.82209135\n",
      " 0.82521635 0.82052885 0.82209135 0.82521635 0.82673077 0.82521635\n",
      " 0.82209135 0.82209135 0.81896635 0.82209135 0.81740385 0.81896635\n",
      " 0.81896635 0.81896635 0.81740385 0.81584135 0.82052885 0.81896635\n",
      " 0.81896635 0.81896635 0.81896635 0.81896635 0.81740385 0.81896635\n",
      " 0.81740385 0.81740385 0.81740385 0.81740385 0.81740385 0.81740385\n",
      " 0.81740385 0.81740385 0.81740385 0.81740385 0.81740385 0.81740385\n",
      " 0.81740385 0.81740385 0.81740385 0.81740385        nan        nan\n",
      "        nan        nan        nan 0.86108173 0.85954327 0.84701923\n",
      " 0.85173077 0.84858173 0.83920673 0.83766827 0.83766827 0.84548077\n",
      " 0.84548077 0.83454327 0.83298077 0.83451923 0.82829327 0.83610577\n",
      " 0.82834135 0.83141827 0.83141827 0.82516827 0.82675481 0.82673077\n",
      " 0.82362981 0.82365385 0.82519231 0.82677885 0.82365385 0.82206731\n",
      " 0.82365385 0.82052885 0.81896635 0.82052885 0.82365385 0.82052885\n",
      " 0.82209135 0.82209135 0.82209135 0.82209135 0.81896635 0.81740385\n",
      " 0.81740385 0.82052885 0.81896635 0.81740385 0.81740385 0.81896635\n",
      " 0.81740385 0.81896635 0.81896635 0.81740385 0.81896635 0.81740385\n",
      " 0.81740385 0.81740385 0.81740385 0.81740385 0.81740385 0.81740385\n",
      " 0.81740385 0.81740385 0.81740385 0.81740385 0.81740385 0.81740385\n",
      " 0.81740385 0.81740385]\n",
      "  warnings.warn(\n"
     ]
    },
    {
     "name": "stdout",
     "output_type": "stream",
     "text": [
      "{'max_depth': 9, 'max_features': 1, 'min_samples_leaf': 50}\n",
      "86.10817307692308\n"
     ]
    }
   ],
   "source": [
    "rfc = RandomForestClassifier()\n",
    "\n",
    "forest_params = [{'max_depth': list(range(5, 10)),'min_samples_leaf': list(range(50, 55)), \n",
    "                  'max_features': list(range(0,14))}]\n",
    "\n",
    "clf = GridSearchCV(rfc, forest_params, cv = 10, scoring='accuracy')\n",
    "\n",
    "clf.fit(X_train, y_train)\n",
    "\n",
    "print(clf.best_params_)\n",
    "\n",
    "print(clf.best_score_*100)"
   ]
  },
  {
   "cell_type": "markdown",
   "id": "5f1ef804",
   "metadata": {},
   "source": [
    "After getting the best group of parameters and the best score, we will apply the chosen model to our testing set and then calculate the accuracy of the model on the test set."
   ]
  },
  {
   "cell_type": "code",
   "execution_count": 18,
   "id": "12ca5fcd",
   "metadata": {
    "scrolled": true
   },
   "outputs": [
    {
     "name": "stdout",
     "output_type": "stream",
     "text": [
      " Model Accuracy on test set: 85.14\n"
     ]
    }
   ],
   "source": [
    "predictions = clf.best_estimator_.predict(X_test)\n",
    "accuracy = accuracy_score(y_test, predictions)\n",
    "print(f\" Model Accuracy on test set: {accuracy*100:.2f}\")"
   ]
  },
  {
   "cell_type": "markdown",
   "id": "30d84c68",
   "metadata": {},
   "source": [
    "This model's accuracy is quite good, meaning that our model tends to predict correctly whether a patient has heart disease."
   ]
  },
  {
   "cell_type": "markdown",
   "id": "b35bf1db",
   "metadata": {},
   "source": [
    "Next, we will try the K Neighbors Classifier. We will tune some parameters of our model, fit the dataset into the model, and then use grid search to find the best group of parameters and the best score among training models."
   ]
  },
  {
   "cell_type": "code",
   "execution_count": 19,
   "id": "b655499b",
   "metadata": {},
   "outputs": [
    {
     "data": {
      "text/plain": [
       "Index(['Age', 'RestingBP', 'Cholesterol', 'FastingBS', 'MaxHR', 'Oldpeak',\n",
       "       'Sex_M', 'ChestPainType_ATA', 'ChestPainType_NAP', 'ChestPainType_TA',\n",
       "       'RestingECG_Normal', 'RestingECG_ST', 'ExerciseAngina_Y',\n",
       "       'ST_Slope_Flat', 'ST_Slope_Up'],\n",
       "      dtype='object')"
      ]
     },
     "execution_count": 19,
     "metadata": {},
     "output_type": "execute_result"
    }
   ],
   "source": [
    "features = data_1_dummies.drop([\"HeartDisease\"], axis=1).columns\n",
    "features"
   ]
  },
  {
   "cell_type": "code",
   "execution_count": 20,
   "id": "4055e504",
   "metadata": {
    "scrolled": false
   },
   "outputs": [
    {
     "data": {
      "text/plain": [
       "(86.89074612403101, {'metric': 'manhattan', 'n_neighbors': 14})"
      ]
     },
     "execution_count": 20,
     "metadata": {},
     "output_type": "execute_result"
    }
   ],
   "source": [
    "scaler = MinMaxScaler()\n",
    "X_train_scaled = scaler.fit_transform(X_train[features])\n",
    "grid_params = {\"n_neighbors\": range(1, 20), \"metric\": [\"minkowski\", \"manhattan\"]}\n",
    "\n",
    "knn = KNeighborsClassifier()\n",
    "knn_grid = GridSearchCV(knn, grid_params, scoring='accuracy')\n",
    "knn_grid.fit(X_train_scaled, y_train)\n",
    "knn_grid.best_score_*100, knn_grid.best_params_"
   ]
  },
  {
   "cell_type": "markdown",
   "id": "99a60af9",
   "metadata": {},
   "source": [
    "After getting the best group of parameters and the best score, we will apply the chosen model to our testing set and then calculate the accuracy of the model on the test set."
   ]
  },
  {
   "cell_type": "code",
   "execution_count": 21,
   "id": "cfebe3f5",
   "metadata": {
    "scrolled": false
   },
   "outputs": [
    {
     "name": "stdout",
     "output_type": "stream",
     "text": [
      " Model Accuracy on test set: 84.42\n"
     ]
    }
   ],
   "source": [
    "X_test_scaled = scaler.transform(X_test[features])\n",
    "predictions = knn_grid.best_estimator_.predict(X_test_scaled)\n",
    "accuracy = accuracy_score(y_test, predictions)\n",
    "print(f\" Model Accuracy on test set: {accuracy*100:.2f}\")"
   ]
  },
  {
   "cell_type": "markdown",
   "id": "0e88e7f1",
   "metadata": {},
   "source": [
    "This model's accuracy is better than that of the Random Forest model. In addition, the execution time of this model is also faster."
   ]
  },
  {
   "cell_type": "markdown",
   "id": "1cf7db4e",
   "metadata": {},
   "source": [
    "## Building a prediction model with selective features\n",
    "\n",
    "In this section, we are about to build a prediction model with selective features using the Random Forest Classifier and K Neighbors Classifier. \n",
    "\n",
    "We will choose variables whose strength of correlation with **Heart Disease** > 0.3 as our features for the model."
   ]
  },
  {
   "cell_type": "code",
   "execution_count": 22,
   "id": "2d7d091f",
   "metadata": {
    "scrolled": true
   },
   "outputs": [
    {
     "data": {
      "text/plain": [
       "Age                  False\n",
       "RestingBP            False\n",
       "Cholesterol          False\n",
       "FastingBS            False\n",
       "MaxHR                 True\n",
       "Oldpeak               True\n",
       "HeartDisease          True\n",
       "Sex_M                 True\n",
       "ChestPainType_ATA     True\n",
       "ChestPainType_NAP    False\n",
       "ChestPainType_TA     False\n",
       "RestingECG_Normal    False\n",
       "RestingECG_ST        False\n",
       "ExerciseAngina_Y      True\n",
       "ST_Slope_Flat         True\n",
       "ST_Slope_Up           True\n",
       "Name: HeartDisease, dtype: bool"
      ]
     },
     "execution_count": 22,
     "metadata": {},
     "output_type": "execute_result"
    }
   ],
   "source": [
    "k = abs(data_1_dummies.corr()) > 0.3\n",
    "k[\"HeartDisease\"]"
   ]
  },
  {
   "cell_type": "markdown",
   "id": "d8a19815",
   "metadata": {},
   "source": [
    "The following list includes all the selected features that will be used for the prediction model later."
   ]
  },
  {
   "cell_type": "code",
   "execution_count": 23,
   "id": "c19b23bd",
   "metadata": {
    "scrolled": true
   },
   "outputs": [],
   "source": [
    "features = [\n",
    "    \"MaxHR\",\n",
    "    \"Oldpeak\",\n",
    "    \"Sex_M\",\n",
    "    \"ChestPainType_ATA\",\n",
    "    \"ExerciseAngina_Y\",\n",
    "    \"ST_Slope_Flat\",\n",
    "    \"ST_Slope_Up\"\n",
    "]"
   ]
  },
  {
   "cell_type": "markdown",
   "id": "3751fb13",
   "metadata": {},
   "source": [
    "Next, we will do the same splitting practice and apply the Random Forest  model in the previous section to the training and testing tests in this section."
   ]
  },
  {
   "cell_type": "code",
   "execution_count": 24,
   "id": "8d2aefd7",
   "metadata": {
    "scrolled": true
   },
   "outputs": [],
   "source": [
    "X = data_1_dummies[features]\n",
    "y = data_1_dummies[\"HeartDisease\"]\n",
    "\n",
    "X_train, X_test, y_train, y_test = train_test_split(X, y, test_size=0.3, random_state = 777)"
   ]
  },
  {
   "cell_type": "code",
   "execution_count": 25,
   "id": "6cf203ba",
   "metadata": {
    "scrolled": false
   },
   "outputs": [
    {
     "name": "stderr",
     "output_type": "stream",
     "text": [
      "/Library/Frameworks/Python.framework/Versions/3.10/lib/python3.10/site-packages/sklearn/model_selection/_validation.py:378: FitFailedWarning: \n",
      "250 fits failed out of a total of 3500.\n",
      "The score on these train-test partitions for these parameters will be set to nan.\n",
      "If these failures are not expected, you can try to debug them by setting error_score='raise'.\n",
      "\n",
      "Below are more details about the failures:\n",
      "--------------------------------------------------------------------------------\n",
      "250 fits failed with the following error:\n",
      "Traceback (most recent call last):\n",
      "  File \"/Library/Frameworks/Python.framework/Versions/3.10/lib/python3.10/site-packages/sklearn/model_selection/_validation.py\", line 686, in _fit_and_score\n",
      "    estimator.fit(X_train, y_train, **fit_params)\n",
      "  File \"/Library/Frameworks/Python.framework/Versions/3.10/lib/python3.10/site-packages/sklearn/ensemble/_forest.py\", line 476, in fit\n",
      "    trees = Parallel(\n",
      "  File \"/Library/Frameworks/Python.framework/Versions/3.10/lib/python3.10/site-packages/joblib/parallel.py\", line 1043, in __call__\n",
      "    if self.dispatch_one_batch(iterator):\n",
      "  File \"/Library/Frameworks/Python.framework/Versions/3.10/lib/python3.10/site-packages/joblib/parallel.py\", line 861, in dispatch_one_batch\n",
      "    self._dispatch(tasks)\n",
      "  File \"/Library/Frameworks/Python.framework/Versions/3.10/lib/python3.10/site-packages/joblib/parallel.py\", line 779, in _dispatch\n",
      "    job = self._backend.apply_async(batch, callback=cb)\n",
      "  File \"/Library/Frameworks/Python.framework/Versions/3.10/lib/python3.10/site-packages/joblib/_parallel_backends.py\", line 208, in apply_async\n",
      "    result = ImmediateResult(func)\n",
      "  File \"/Library/Frameworks/Python.framework/Versions/3.10/lib/python3.10/site-packages/joblib/_parallel_backends.py\", line 572, in __init__\n",
      "    self.results = batch()\n",
      "  File \"/Library/Frameworks/Python.framework/Versions/3.10/lib/python3.10/site-packages/joblib/parallel.py\", line 262, in __call__\n",
      "    return [func(*args, **kwargs)\n",
      "  File \"/Library/Frameworks/Python.framework/Versions/3.10/lib/python3.10/site-packages/joblib/parallel.py\", line 262, in <listcomp>\n",
      "    return [func(*args, **kwargs)\n",
      "  File \"/Library/Frameworks/Python.framework/Versions/3.10/lib/python3.10/site-packages/sklearn/utils/fixes.py\", line 117, in __call__\n",
      "    return self.function(*args, **kwargs)\n",
      "  File \"/Library/Frameworks/Python.framework/Versions/3.10/lib/python3.10/site-packages/sklearn/ensemble/_forest.py\", line 189, in _parallel_build_trees\n",
      "    tree.fit(X, y, sample_weight=curr_sample_weight, check_input=False)\n",
      "  File \"/Library/Frameworks/Python.framework/Versions/3.10/lib/python3.10/site-packages/sklearn/tree/_classes.py\", line 969, in fit\n",
      "    super().fit(\n",
      "  File \"/Library/Frameworks/Python.framework/Versions/3.10/lib/python3.10/site-packages/sklearn/tree/_classes.py\", line 325, in fit\n",
      "    check_scalar(\n",
      "  File \"/Library/Frameworks/Python.framework/Versions/3.10/lib/python3.10/site-packages/sklearn/utils/validation.py\", line 1480, in check_scalar\n",
      "    raise ValueError(\n",
      "ValueError: max_features == 0, must be >= 1.\n",
      "\n",
      "  warnings.warn(some_fits_failed_message, FitFailedWarning)\n",
      "/Library/Frameworks/Python.framework/Versions/3.10/lib/python3.10/site-packages/sklearn/model_selection/_search.py:953: UserWarning: One or more of the test scores are non-finite: [       nan        nan        nan        nan        nan 0.83298077\n",
      " 0.82831731 0.83298077 0.83139423 0.83141827 0.82983173 0.82673077\n",
      " 0.82829327 0.82670673 0.82362981 0.81896635 0.82204327 0.82204327\n",
      " 0.82516827 0.82048077 0.81896635 0.81896635 0.81896635 0.81896635\n",
      " 0.81896635 0.81896635 0.81740385 0.81740385 0.81896635 0.81740385\n",
      " 0.81740385 0.81740385 0.81740385 0.81740385 0.81740385 0.81740385\n",
      " 0.81740385 0.81740385 0.81740385 0.81740385 0.81740385 0.81740385\n",
      " 0.81740385 0.81740385 0.81740385 0.81740385 0.81740385 0.81740385\n",
      " 0.81740385 0.81740385 0.81740385 0.81740385 0.81740385 0.81740385\n",
      " 0.81740385 0.81740385 0.81740385 0.81740385 0.81740385 0.81740385\n",
      " 0.81740385 0.81740385 0.81740385 0.81740385 0.81740385 0.81740385\n",
      " 0.81740385 0.81740385 0.81740385 0.81740385        nan        nan\n",
      "        nan        nan        nan 0.83141827 0.83298077 0.83295673\n",
      " 0.84079327 0.83139423 0.82360577 0.82360577 0.82670673 0.82209135\n",
      " 0.82516827 0.81896635 0.82516827 0.82209135 0.82052885 0.82052885\n",
      " 0.81896635 0.81896635 0.81896635 0.81896635 0.81896635 0.81740385\n",
      " 0.81740385 0.81740385 0.81896635 0.81740385 0.81740385 0.81740385\n",
      " 0.81740385 0.81740385 0.81740385 0.81740385 0.81740385 0.81740385\n",
      " 0.81740385 0.81740385 0.81740385 0.81740385 0.81740385 0.81740385\n",
      " 0.81740385 0.81740385 0.81740385 0.81740385 0.81740385 0.81740385\n",
      " 0.81740385 0.81740385 0.81740385 0.81740385 0.81740385 0.81740385\n",
      " 0.81740385 0.81740385 0.81740385 0.81740385 0.81740385 0.81740385\n",
      " 0.81740385 0.81740385 0.81740385 0.81740385 0.81740385 0.81740385\n",
      " 0.81740385 0.81740385        nan        nan        nan        nan\n",
      "        nan 0.83298077 0.84391827 0.83141827 0.84389423 0.84076923\n",
      " 0.82670673 0.82983173 0.82826923 0.82360577 0.82675481 0.82052885\n",
      " 0.82209135 0.82052885 0.81740385 0.82209135 0.81896635 0.81740385\n",
      " 0.81896635 0.81896635 0.81896635 0.81896635 0.81896635 0.81740385\n",
      " 0.81740385 0.81740385 0.81740385 0.81740385 0.81740385 0.81740385\n",
      " 0.81740385 0.81740385 0.81740385 0.81740385 0.81740385 0.81740385\n",
      " 0.81740385 0.81740385 0.81740385 0.81740385 0.81740385 0.81740385\n",
      " 0.81740385 0.81740385 0.81740385 0.81740385 0.81740385 0.81740385\n",
      " 0.81740385 0.81740385 0.81740385 0.81740385 0.81740385 0.81740385\n",
      " 0.81740385 0.81740385 0.81740385 0.81740385 0.81740385 0.81740385\n",
      " 0.81740385 0.81740385 0.81740385 0.81740385 0.81740385 0.81740385\n",
      "        nan        nan        nan        nan        nan 0.83766827\n",
      " 0.83608173 0.83454327 0.83298077 0.82987981 0.82670673 0.82362981\n",
      " 0.82675481 0.82514423 0.82358173 0.81896635 0.82050481 0.82670673\n",
      " 0.81896635 0.82052885 0.81896635 0.81896635 0.81896635 0.81740385\n",
      " 0.81896635 0.81740385 0.81740385 0.81740385 0.81740385 0.81896635\n",
      " 0.81740385 0.81740385 0.81740385 0.81740385 0.81740385 0.81740385\n",
      " 0.81740385 0.81740385 0.81740385 0.81740385 0.81740385 0.81740385\n",
      " 0.81740385 0.81740385 0.81740385 0.81740385 0.81740385 0.81740385\n",
      " 0.81740385 0.81740385 0.81740385 0.81740385 0.81740385 0.81740385\n",
      " 0.81740385 0.81740385 0.81740385 0.81740385 0.81740385 0.81740385\n",
      " 0.81740385 0.81740385 0.81740385 0.81740385 0.81740385 0.81740385\n",
      " 0.81740385 0.81740385 0.81740385 0.81740385        nan        nan\n",
      "        nan        nan        nan 0.83454327 0.83612981 0.83456731\n",
      " 0.82985577 0.83920673 0.82519231 0.83139423 0.82204327 0.82673077\n",
      " 0.82673077 0.82360577 0.82209135 0.82052885 0.82209135 0.81896635\n",
      " 0.81740385 0.81740385 0.81896635 0.81896635 0.81740385 0.81896635\n",
      " 0.81896635 0.81740385 0.81740385 0.81896635 0.81740385 0.81740385\n",
      " 0.81740385 0.81740385 0.81740385 0.81740385 0.81740385 0.81740385\n",
      " 0.81740385 0.81740385 0.81740385 0.81740385 0.81740385 0.81740385\n",
      " 0.81740385 0.81740385 0.81740385 0.81740385 0.81740385 0.81740385\n",
      " 0.81740385 0.81740385 0.81740385 0.81740385 0.81740385 0.81740385\n",
      " 0.81740385 0.81740385 0.81740385 0.81740385 0.81740385 0.81740385\n",
      " 0.81740385 0.81740385 0.81740385 0.81740385 0.81740385 0.81740385\n",
      " 0.81740385 0.81740385]\n",
      "  warnings.warn(\n"
     ]
    },
    {
     "name": "stdout",
     "output_type": "stream",
     "text": [
      "{'max_depth': 7, 'max_features': 1, 'min_samples_leaf': 51}\n",
      "84.39182692307693\n"
     ]
    }
   ],
   "source": [
    "rfc = RandomForestClassifier()\n",
    "\n",
    "forest_params = [{'max_depth': list(range(5, 10)),'min_samples_leaf': list(range(50, 55)),\n",
    "                  'max_features': list(range(0,14))}]\n",
    "\n",
    "clf = GridSearchCV(rfc, forest_params, cv = 10, scoring='accuracy')\n",
    "\n",
    "clf.fit(X_train, y_train)\n",
    "\n",
    "print(clf.best_params_)\n",
    "\n",
    "print(clf.best_score_*100)"
   ]
  },
  {
   "cell_type": "code",
   "execution_count": 26,
   "id": "d7db6191",
   "metadata": {
    "scrolled": true
   },
   "outputs": [
    {
     "name": "stdout",
     "output_type": "stream",
     "text": [
      " Model Accuracy on test set: 83.33\n"
     ]
    }
   ],
   "source": [
    "predictions = clf.best_estimator_.predict(X_test)\n",
    "accuracy = accuracy_score(y_test, predictions)\n",
    "print(f\" Model Accuracy on test set: {accuracy*100:.2f}\")"
   ]
  },
  {
   "cell_type": "markdown",
   "id": "ded1bdb5",
   "metadata": {},
   "source": [
    "This model's accuracy is slightly lower than that of the two models in the previous section.\n",
    "\n",
    "Now, will try the K Neighbors model. We will do the same splitting practice and apply the K Neighbors model in the previous section to the training and testing tests in this section."
   ]
  },
  {
   "cell_type": "code",
   "execution_count": 27,
   "id": "e3b12481",
   "metadata": {
    "scrolled": true
   },
   "outputs": [
    {
     "data": {
      "text/plain": [
       "(84.39559108527132, {'metric': 'manhattan', 'n_neighbors': 19})"
      ]
     },
     "execution_count": 27,
     "metadata": {},
     "output_type": "execute_result"
    }
   ],
   "source": [
    "scaler = MinMaxScaler()\n",
    "X_train_scaled = scaler.fit_transform(X_train[features])\n",
    "grid_params = {\"n_neighbors\": range(1, 20),\n",
    "                \"metric\": [\"minkowski\", \"manhattan\"]\n",
    "              }\n",
    "\n",
    "knn = KNeighborsClassifier()\n",
    "knn_grid = GridSearchCV(knn, grid_params, scoring='accuracy')\n",
    "knn_grid.fit(X_train_scaled, y_train)\n",
    "knn_grid.best_score_*100, knn_grid.best_params_"
   ]
  },
  {
   "cell_type": "code",
   "execution_count": 28,
   "id": "307ae643",
   "metadata": {
    "scrolled": true
   },
   "outputs": [
    {
     "name": "stdout",
     "output_type": "stream",
     "text": [
      " Model Accuracy on test set: 84.06\n"
     ]
    }
   ],
   "source": [
    "X_test_scaled = scaler.transform(X_test[features])\n",
    "predictions = knn_grid.best_estimator_.predict(X_test_scaled)\n",
    "accuracy = accuracy_score(y_test, predictions)\n",
    "print(f\" Model Accuracy on test set: {accuracy*100:.2f}\")"
   ]
  },
  {
   "cell_type": "markdown",
   "id": "5d4a34ec",
   "metadata": {},
   "source": [
    "This model's accuracy is quite similar to that of the other models that we have tried (just slightly lower), suggesting that we should use this model and selective features to reduce the execution time but still guarantee a high level of accuracy."
   ]
  },
  {
   "cell_type": "markdown",
   "id": "5d099a8a",
   "metadata": {},
   "source": [
    "## Conclusion\n",
    "We should use selective features and the K Neighbors Classifier to build a model for heart disease prediction since this model generates results fast with a high level of accuracy. \n",
    "\n",
    "Here are the selected features for the prediction model:\n",
    "  **\"MaxHR\",\n",
    "    \"Oldpeak\",\n",
    "    \"Sex_M\",\n",
    "    \"ChestPainType_ATA\",\n",
    "    \"ExerciseAngina_Y\",\n",
    "    \"ST_Slope_Flat\",\n",
    "    \"ST_Slope_Up\".**\n",
    "    \n",
    "## Suggestions for future research\n",
    "- Collect more data on female patients to reduce the bias towards male patients and increase the accuracy of the model\n",
    "- Try more parameters to see whether they help increase the accuracy of the model\n",
    "- Try other models to see whether they work better than the K Neighbors model in terms of execution time and accuracy"
   ]
  }
 ],
 "metadata": {
  "kernelspec": {
   "display_name": "Python 3 (ipykernel)",
   "language": "python",
   "name": "python3"
  },
  "language_info": {
   "codemirror_mode": {
    "name": "ipython",
    "version": 3
   },
   "file_extension": ".py",
   "mimetype": "text/x-python",
   "name": "python",
   "nbconvert_exporter": "python",
   "pygments_lexer": "ipython3",
   "version": "3.10.5"
  }
 },
 "nbformat": 4,
 "nbformat_minor": 5
}
